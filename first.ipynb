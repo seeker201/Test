{
 "cells": [
  {
   "cell_type": "code",
   "execution_count": 1,
   "metadata": {},
   "outputs": [
    {
     "data": {
      "text/plain": [
       "'/Users/jimliu'"
      ]
     },
     "execution_count": 1,
     "metadata": {},
     "output_type": "execute_result"
    }
   ],
   "source": [
    "%pwd"
   ]
  },
  {
   "cell_type": "code",
   "execution_count": 3,
   "metadata": {},
   "outputs": [],
   "source": [
    "%debug?"
   ]
  },
  {
   "cell_type": "code",
   "execution_count": 8,
   "metadata": {},
   "outputs": [
    {
     "data": {
      "text/plain": [
       "[<matplotlib.lines.Line2D at 0x122f70278>]"
      ]
     },
     "execution_count": 8,
     "metadata": {},
     "output_type": "execute_result"
    },
    {
     "data": {
      "image/png": "[encoded data removed]",
      "text/plain": [
       "<Figure size 432x288 with 1 Axes>"
      ]
     },
     "metadata": {
      "needs_background": "light"
     },
     "output_type": "display_data"
    }
   ],
   "source": [
    "import matplotlib.pyplot as plt\n",
    "import numpy as np\n",
    "%matplotlib inline\n",
    "plt.plot(np.random.randn(50).cumsum())"
   ]
  },
  {
   "cell_type": "code",
   "execution_count": 11,
   "metadata": {},
   "outputs": [
    {
     "data": {
      "text/plain": [
       "(1, 'sre', 3)"
      ]
     },
     "execution_count": 11,
     "metadata": {},
     "output_type": "execute_result"
    }
   ],
   "source": [
    "tup = 1, \"sre\", 3\n",
    "tup"
   ]
  },
  {
   "cell_type": "code",
   "execution_count": 12,
   "metadata": {},
   "outputs": [
    {
     "data": {
      "text/plain": [
       "(1, 'sre', 3, 1, 'sre', 3, 1, 'sre', 3, 1, 'sre', 3)"
      ]
     },
     "execution_count": 12,
     "metadata": {},
     "output_type": "execute_result"
    }
   ],
   "source": [
    "tup *4"
   ]
  },
  {
   "cell_type": "code",
   "execution_count": 13,
   "metadata": {},
   "outputs": [],
   "source": [
    "a = tup"
   ]
  },
  {
   "cell_type": "code",
   "execution_count": 14,
   "metadata": {},
   "outputs": [
    {
     "data": {
      "text/plain": [
       "(1, 'sre', 3, 1, 'sre', 3, 1, 'sre', 3, 1, 'sre', 3)"
      ]
     },
     "execution_count": 14,
     "metadata": {},
     "output_type": "execute_result"
    }
   ],
   "source": [
    "tup * 4"
   ]
  },
  {
   "cell_type": "code",
   "execution_count": 15,
   "metadata": {},
   "outputs": [
    {
     "data": {
      "text/plain": [
       "(1, 'sre', 3)"
      ]
     },
     "execution_count": 15,
     "metadata": {},
     "output_type": "execute_result"
    }
   ],
   "source": [
    "a"
   ]
  },
  {
   "cell_type": "code",
   "execution_count": 16,
   "metadata": {},
   "outputs": [],
   "source": [
    "list = ['Michael','Jim','Leo']\n",
    "map = {}\n",
    "for i, value in enumerate(list):\n",
    "    map[i] = value"
   ]
  },
  {
   "cell_type": "code",
   "execution_count": 17,
   "metadata": {},
   "outputs": [
    {
     "data": {
      "text/plain": [
       "{0: 'Michael', 1: 'Jim', 2: 'Leo'}"
      ]
     },
     "execution_count": 17,
     "metadata": {},
     "output_type": "execute_result"
    }
   ],
   "source": [
    "map"
   ]
  },
  {
   "cell_type": "code",
   "execution_count": 18,
   "metadata": {},
   "outputs": [],
   "source": [
    "list.sort()"
   ]
  },
  {
   "cell_type": "code",
   "execution_count": 19,
   "metadata": {},
   "outputs": [
    {
     "data": {
      "text/plain": [
       "['Jim', 'Leo', 'Michael']"
      ]
     },
     "execution_count": 19,
     "metadata": {},
     "output_type": "execute_result"
    }
   ],
   "source": [
    "list"
   ]
  },
  {
   "cell_type": "code",
   "execution_count": 20,
   "metadata": {},
   "outputs": [
    {
     "data": {
      "text/plain": [
       "['Jim', 'Leo', 'Michael']"
      ]
     },
     "execution_count": 20,
     "metadata": {},
     "output_type": "execute_result"
    }
   ],
   "source": [
    "sorted(list)"
   ]
  },
  {
   "cell_type": "code",
   "execution_count": 21,
   "metadata": {},
   "outputs": [
    {
     "data": {
      "text/plain": [
       "['Jim', 'Leo', 'Michael']"
      ]
     },
     "execution_count": 21,
     "metadata": {},
     "output_type": "execute_result"
    }
   ],
   "source": [
    "list"
   ]
  },
  {
   "cell_type": "code",
   "execution_count": 22,
   "metadata": {},
   "outputs": [],
   "source": [
    "a = ['Michael','Jim','Leo']"
   ]
  },
  {
   "cell_type": "code",
   "execution_count": 23,
   "metadata": {},
   "outputs": [
    {
     "data": {
      "text/plain": [
       "['Jim', 'Leo', 'Michael']"
      ]
     },
     "execution_count": 23,
     "metadata": {},
     "output_type": "execute_result"
    }
   ],
   "source": [
    "sorted(a)"
   ]
  },
  {
   "cell_type": "code",
   "execution_count": 24,
   "metadata": {},
   "outputs": [
    {
     "data": {
      "text/plain": [
       "['Michael', 'Jim', 'Leo']"
      ]
     },
     "execution_count": 24,
     "metadata": {},
     "output_type": "execute_result"
    }
   ],
   "source": [
    "a"
   ]
  },
  {
   "cell_type": "code",
   "execution_count": 25,
   "metadata": {},
   "outputs": [
    {
     "data": {
      "text/plain": [
       "[1, 2, 3, 1, 2, 3]"
      ]
     },
     "execution_count": 25,
     "metadata": {},
     "output_type": "execute_result"
    }
   ],
   "source": [
    "b = [1,2,3]\n",
    "b*2"
   ]
  },
  {
   "cell_type": "code",
   "execution_count": 26,
   "metadata": {},
   "outputs": [],
   "source": [
    "c = np.array(b)"
   ]
  },
  {
   "cell_type": "code",
   "execution_count": 27,
   "metadata": {},
   "outputs": [
    {
     "data": {
      "text/plain": [
       "array([1, 2, 3])"
      ]
     },
     "execution_count": 27,
     "metadata": {},
     "output_type": "execute_result"
    }
   ],
   "source": [
    "c"
   ]
  },
  {
   "cell_type": "code",
   "execution_count": 28,
   "metadata": {},
   "outputs": [
    {
     "data": {
      "text/plain": [
       "array([2, 4, 6])"
      ]
     },
     "execution_count": 28,
     "metadata": {},
     "output_type": "execute_result"
    }
   ],
   "source": [
    "c*2"
   ]
  },
  {
   "cell_type": "code",
   "execution_count": 1,
   "metadata": {},
   "outputs": [],
   "source": [
    "%matplotlib notebook"
   ]
  },
  {
   "cell_type": "code",
   "execution_count": 3,
   "metadata": {},
   "outputs": [],
   "source": [
    "import matplotlib.pyplot as plt\n",
    "import numpy as np"
   ]
  },
  {
   "cell_type": "code",
   "execution_count": 4,
   "metadata": {},
   "outputs": [],
   "source": [
    "data = np.arange(10)"
   ]
  },
  {
   "cell_type": "code",
   "execution_count": 5,
   "metadata": {},
   "outputs": [
    {
     "data": {
      "application/javascript": [
       "/* Put everything inside the global mpl namespace */\n",
       "window.mpl = {};\n",
       "\n",
       "\n",
       "mpl.get_websocket_type = function() {\n",
       "    if (typeof(WebSocket) !== 'undefined') {\n",
       "        return WebSocket;\n",
       "    } else if (typeof(MozWebSocket) !== 'undefined') {\n",
       "        return MozWebSocket;\n",
       "    } else {\n",
       "        alert('Your browser does not have WebSocket support.' +\n",
       "              'Please try Chrome, Safari or Firefox ≥ 6. ' +\n",
       "              'Firefox 4 and 5 are also supported but you ' +\n",
       "              'have to enable WebSockets in about:config.');\n",
       "    };\n",
       "}\n",
       "\n",
       "mpl.figure = function(figure_id, websocket, ondownload, parent_element) {\n",
       "    this.id = figure_id;\n",
       "\n",
       "    this.ws = websocket;\n",
       "\n",
       "    this.supports_binary = (this.ws.binaryType != undefined);\n",
       "\n",
       "    if (!this.supports_binary) {\n",
       "        var warnings = document.getElementById(\"mpl-warnings\");\n",
       "        if (warnings) {\n",
       "            warnings.style.display = 'block';\n",
       "            warnings.textContent = (\n",
       "                \"This browser does not support binary websocket messages. \" +\n",
       "                    \"Performance may be slow.\");\n",
       "        }\n",
       "    }\n",
       "\n",
       "    this.imageObj = new Image();\n",
       "\n",
       "    this.context = undefined;\n",
       "    this.message = undefined;\n",
       "    this.canvas = undefined;\n",
       "    this.rubberband_canvas = undefined;\n",
       "    this.rubberband_context = undefined;\n",
       "    this.format_dropdown = undefined;\n",
       "\n",
       "    this.image_mode = 'full';\n",
       "\n",
       "    this.root = $('<div/>');\n",
       "    this._root_extra_style(this.root)\n",
       "    this.root.attr('style', 'display: inline-block');\n",
       "\n",
       "    $(parent_element).append(this.root);\n",
       "\n",
       "    this._init_header(this);\n",
       "    this._init_canvas(this);\n",
       "    this._init_toolbar(this);\n",
       "\n",
       "    var fig = this;\n",
       "\n",
       "    this.waiting = false;\n",
       "\n",
       "    this.ws.onopen =  function () {\n",
       "            fig.send_message(\"supports_binary\", {value: fig.supports_binary});\n",
       "            fig.send_message(\"send_image_mode\", {});\n",
       "            if (mpl.ratio != 1) {\n",
       "                fig.send_message(\"set_dpi_ratio\", {'dpi_ratio': mpl.ratio});\n",
       "            }\n",
       "            fig.send_message(\"refresh\", {});\n",
       "        }\n",
       "\n",
       "    this.imageObj.onload = function() {\n",
       "            if (fig.image_mode == 'full') {\n",
       "                // Full images could contain transparency (where diff images\n",
       "                // almost always do), so we need to clear the canvas so that\n",
       "                // there is no ghosting.\n",
       "                fig.context.clearRect(0, 0, fig.canvas.width, fig.canvas.height);\n",
       "            }\n",
       "            fig.context.drawImage(fig.imageObj, 0, 0);\n",
       "        };\n",
       "\n",
       "    this.imageObj.onunload = function() {\n",
       "        fig.ws.close();\n",
       "    }\n",
       "\n",
       "    this.ws.onmessage = this._make_on_message_function(this);\n",
       "\n",
       "    this.ondownload = ondownload;\n",
       "}\n",
       "\n",
       "mpl.figure.prototype._init_header = function() {\n",
       "    var titlebar = $(\n",
       "        '<div class=\"ui-dialog-titlebar ui-widget-header ui-corner-all ' +\n",
       "        'ui-helper-clearfix\"/>');\n",
       "    var titletext = $(\n",
       "        '<div class=\"ui-dialog-title\" style=\"width: 100%; ' +\n",
       "        'text-align: center; padding: 3px;\"/>');\n",
       "    titlebar.append(titletext)\n",
       "    this.root.append(titlebar);\n",
       "    this.header = titletext[0];\n",
       "}\n",
       "\n",
       "\n",
       "\n",
       "mpl.figure.prototype._canvas_extra_style = function(canvas_div) {\n",
       "\n",
       "}\n",
       "\n",
       "\n",
       "mpl.figure.prototype._root_extra_style = function(canvas_div) {\n",
       "\n",
       "}\n",
       "\n",
       "mpl.figure.prototype._init_canvas = function() {\n",
       "    var fig = this;\n",
       "\n",
       "    var canvas_div = $('<div/>');\n",
       "\n",
       "    canvas_div.attr('style', 'position: relative; clear: both; outline: 0');\n",
       "\n",
       "    function canvas_keyboard_event(event) {\n",
       "        return fig.key_event(event, event['data']);\n",
       "    }\n",
       "\n",
       "    canvas_div.keydown('key_press', canvas_keyboard_event);\n",
       "    canvas_div.keyup('key_release', canvas_keyboard_event);\n",
       "    this.canvas_div = canvas_div\n",
       "    this._canvas_extra_style(canvas_div)\n",
       "    this.root.append(canvas_div);\n",
       "\n",
       "    var canvas = $('<canvas/>');\n",
       "    canvas.addClass('mpl-canvas');\n",
       "    canvas.attr('style', \"left: 0; top: 0; z-index: 0; outline: 0\")\n",
       "\n",
       "    this.canvas = canvas[0];\n",
       "    this.context = canvas[0].getContext(\"2d\");\n",
       "\n",
       "    var backingStore = this.context.backingStorePixelRatio ||\n",
       "\tthis.context.webkitBackingStorePixelRatio ||\n",
       "\tthis.context.mozBackingStorePixelRatio ||\n",
       "\tthis.context.msBackingStorePixelRatio ||\n",
       "\tthis.context.oBackingStorePixelRatio ||\n",
       "\tthis.context.backingStorePixelRatio || 1;\n",
       "\n",
       "    mpl.ratio = (window.devicePixelRatio || 1) / backingStore;\n",
       "\n",
       "    var rubberband = $('<canvas/>');\n",
       "    rubberband.attr('style', \"position: absolute; left: 0; top: 0; z-index: 1;\")\n",
       "\n",
       "    var pass_mouse_events = true;\n",
       "\n",
       "    canvas_div.resizable({\n",
       "        start: function(event, ui) {\n",
       "            pass_mouse_events = false;\n",
       "        },\n",
       "        resize: function(event, ui) {\n",
       "            fig.request_resize(ui.size.width, ui.size.height);\n",
       "        },\n",
       "        stop: function(event, ui) {\n",
       "            pass_mouse_events = true;\n",
       "            fig.request_resize(ui.size.width, ui.size.height);\n",
       "        },\n",
       "    });\n",
       "\n",
       "    function mouse_event_fn(event) {\n",
       "        if (pass_mouse_events)\n",
       "            return fig.mouse_event(event, event['data']);\n",
       "    }\n",
       "\n",
       "    rubberband.mousedown('button_press', mouse_event_fn);\n",
       "    rubberband.mouseup('button_release', mouse_event_fn);\n",
       "    // Throttle sequential mouse events to 1 every 20ms.\n",
       "    rubberband.mousemove('motion_notify', mouse_event_fn);\n",
       "\n",
       "    rubberband.mouseenter('figure_enter', mouse_event_fn);\n",
       "    rubberband.mouseleave('figure_leave', mouse_event_fn);\n",
       "\n",
       "    canvas_div.on(\"wheel\", function (event) {\n",
       "        event = event.originalEvent;\n",
       "        event['data'] = 'scroll'\n",
       "        if (event.deltaY < 0) {\n",
       "            event.step = 1;\n",
       "        } else {\n",
       "            event.step = -1;\n",
       "        }\n",
       "        mouse_event_fn(event);\n",
       "    });\n",
       "\n",
       "    canvas_div.append(canvas);\n",
       "    canvas_div.append(rubberband);\n",
       "\n",
       "    this.rubberband = rubberband;\n",
       "    this.rubberband_canvas = rubberband[0];\n",
       "    this.rubberband_context = rubberband[0].getContext(\"2d\");\n",
       "    this.rubberband_context.strokeStyle = \"#000000\";\n",
       "\n",
       "    this._resize_canvas = function(width, height) {\n",
       "        // Keep the size of the canvas, canvas container, and rubber band\n",
       "        // canvas in synch.\n",
       "        canvas_div.css('width', width)\n",
       "        canvas_div.css('height', height)\n",
       "\n",
       "        canvas.attr('width', width * mpl.ratio);\n",
       "        canvas.attr('height', height * mpl.ratio);\n",
       "        canvas.attr('style', 'width: ' + width + 'px; height: ' + height + 'px;');\n",
       "\n",
       "        rubberband.attr('width', width);\n",
       "        rubberband.attr('height', height);\n",
       "    }\n",
       "\n",
       "    // Set the figure to an initial 600x600px, this will subsequently be updated\n",
       "    // upon first draw.\n",
       "    this._resize_canvas(600, 600);\n",
       "\n",
       "    // Disable right mouse context menu.\n",
       "    $(this.rubberband_canvas).bind(\"contextmenu\",function(e){\n",
       "        return false;\n",
       "    });\n",
       "\n",
       "    function set_focus () {\n",
       "        canvas.focus();\n",
       "        canvas_div.focus();\n",
       "    }\n",
       "\n",
       "    window.setTimeout(set_focus, 100);\n",
       "}\n",
       "\n",
       "mpl.figure.prototype._init_toolbar = function() {\n",
       "    var fig = this;\n",
       "\n",
       "    var nav_element = $('<div/>')\n",
       "    nav_element.attr('style', 'width: 100%');\n",
       "    this.root.append(nav_element);\n",
       "\n",
       "    // Define a callback function for later on.\n",
       "    function toolbar_event(event) {\n",
       "        return fig.toolbar_button_onclick(event['data']);\n",
       "    }\n",
       "    function toolbar_mouse_event(event) {\n",
       "        return fig.toolbar_button_onmouseover(event['data']);\n",
       "    }\n",
       "\n",
       "    for(var toolbar_ind in mpl.toolbar_items) {\n",
       "        var name = mpl.toolbar_items[toolbar_ind][0];\n",
       "        var tooltip = mpl.toolbar_items[toolbar_ind][1];\n",
       "        var image = mpl.toolbar_items[toolbar_ind][2];\n",
       "        var method_name = mpl.toolbar_items[toolbar_ind][3];\n",
       "\n",
       "        if (!name) {\n",
       "            // put a spacer in here.\n",
       "            continue;\n",
       "        }\n",
       "        var button = $('<button/>');\n",
       "        button.addClass('ui-button ui-widget ui-state-default ui-corner-all ' +\n",
       "                        'ui-button-icon-only');\n",
       "        button.attr('role', 'button');\n",
       "        button.attr('aria-disabled', 'false');\n",
       "        button.click(method_name, toolbar_event);\n",
       "        button.mouseover(tooltip, toolbar_mouse_event);\n",
       "\n",
       "        var icon_img = $('<span/>');\n",
       "        icon_img.addClass('ui-button-icon-primary ui-icon');\n",
       "        icon_img.addClass(image);\n",
       "        icon_img.addClass('ui-corner-all');\n",
       "\n",
       "        var tooltip_span = $('<span/>');\n",
       "        tooltip_span.addClass('ui-button-text');\n",
       "        tooltip_span.html(tooltip);\n",
       "\n",
       "        button.append(icon_img);\n",
       "        button.append(tooltip_span);\n",
       "\n",
       "        nav_element.append(button);\n",
       "    }\n",
       "\n",
       "    var fmt_picker_span = $('<span/>');\n",
       "\n",
       "    var fmt_picker = $('<select/>');\n",
       "    fmt_picker.addClass('mpl-toolbar-option ui-widget ui-widget-content');\n",
       "    fmt_picker_span.append(fmt_picker);\n",
       "    nav_element.append(fmt_picker_span);\n",
       "    this.format_dropdown = fmt_picker[0];\n",
       "\n",
       "    for (var ind in mpl.extensions) {\n",
       "        var fmt = mpl.extensions[ind];\n",
       "        var option = $(\n",
       "            '<option/>', {selected: fmt === mpl.default_extension}).html(fmt);\n",
       "        fmt_picker.append(option)\n",
       "    }\n",
       "\n",
       "    // Add hover states to the ui-buttons\n",
       "    $( \".ui-button\" ).hover(\n",
       "        function() { $(this).addClass(\"ui-state-hover\");},\n",
       "        function() { $(this).removeClass(\"ui-state-hover\");}\n",
       "    );\n",
       "\n",
       "    var status_bar = $('<span class=\"mpl-message\"/>');\n",
       "    nav_element.append(status_bar);\n",
       "    this.message = status_bar[0];\n",
       "}\n",
       "\n",
       "mpl.figure.prototype.request_resize = function(x_pixels, y_pixels) {\n",
       "    // Request matplotlib to resize the figure. Matplotlib will then trigger a resize in the client,\n",
       "    // which will in turn request a refresh of the image.\n",
       "    this.send_message('resize', {'width': x_pixels, 'height': y_pixels});\n",
       "}\n",
       "\n",
       "mpl.figure.prototype.send_message = function(type, properties) {\n",
       "    properties['type'] = type;\n",
       "    properties['figure_id'] = this.id;\n",
       "    this.ws.send(JSON.stringify(properties));\n",
       "}\n",
       "\n",
       "mpl.figure.prototype.send_draw_message = function() {\n",
       "    if (!this.waiting) {\n",
       "        this.waiting = true;\n",
       "        this.ws.send(JSON.stringify({type: \"draw\", figure_id: this.id}));\n",
       "    }\n",
       "}\n",
       "\n",
       "\n",
       "mpl.figure.prototype.handle_save = function(fig, msg) {\n",
       "    var format_dropdown = fig.format_dropdown;\n",
       "    var format = format_dropdown.options[format_dropdown.selectedIndex].value;\n",
       "    fig.ondownload(fig, format);\n",
       "}\n",
       "\n",
       "\n",
       "mpl.figure.prototype.handle_resize = function(fig, msg) {\n",
       "    var size = msg['size'];\n",
       "    if (size[0] != fig.canvas.width || size[1] != fig.canvas.height) {\n",
       "        fig._resize_canvas(size[0], size[1]);\n",
       "        fig.send_message(\"refresh\", {});\n",
       "    };\n",
       "}\n",
       "\n",
       "mpl.figure.prototype.handle_rubberband = function(fig, msg) {\n",
       "    var x0 = msg['x0'] / mpl.ratio;\n",
       "    var y0 = (fig.canvas.height - msg['y0']) / mpl.ratio;\n",
       "    var x1 = msg['x1'] / mpl.ratio;\n",
       "    var y1 = (fig.canvas.height - msg['y1']) / mpl.ratio;\n",
       "    x0 = Math.floor(x0) + 0.5;\n",
       "    y0 = Math.floor(y0) + 0.5;\n",
       "    x1 = Math.floor(x1) + 0.5;\n",
       "    y1 = Math.floor(y1) + 0.5;\n",
       "    var min_x = Math.min(x0, x1);\n",
       "    var min_y = Math.min(y0, y1);\n",
       "    var width = Math.abs(x1 - x0);\n",
       "    var height = Math.abs(y1 - y0);\n",
       "\n",
       "    fig.rubberband_context.clearRect(\n",
       "        0, 0, fig.canvas.width, fig.canvas.height);\n",
       "\n",
       "    fig.rubberband_context.strokeRect(min_x, min_y, width, height);\n",
       "}\n",
       "\n",
       "mpl.figure.prototype.handle_figure_label = function(fig, msg) {\n",
       "    // Updates the figure title.\n",
       "    fig.header.textContent = msg['label'];\n",
       "}\n",
       "\n",
       "mpl.figure.prototype.handle_cursor = function(fig, msg) {\n",
       "    var cursor = msg['cursor'];\n",
       "    switch(cursor)\n",
       "    {\n",
       "    case 0:\n",
       "        cursor = 'pointer';\n",
       "        break;\n",
       "    case 1:\n",
       "        cursor = 'default';\n",
       "        break;\n",
       "    case 2:\n",
       "        cursor = 'crosshair';\n",
       "        break;\n",
       "    case 3:\n",
       "        cursor = 'move';\n",
       "        break;\n",
       "    }\n",
       "    fig.rubberband_canvas.style.cursor = cursor;\n",
       "}\n",
       "\n",
       "mpl.figure.prototype.handle_message = function(fig, msg) {\n",
       "    fig.message.textContent = msg['message'];\n",
       "}\n",
       "\n",
       "mpl.figure.prototype.handle_draw = function(fig, msg) {\n",
       "    // Request the server to send over a new figure.\n",
       "    fig.send_draw_message();\n",
       "}\n",
       "\n",
       "mpl.figure.prototype.handle_image_mode = function(fig, msg) {\n",
       "    fig.image_mode = msg['mode'];\n",
       "}\n",
       "\n",
       "mpl.figure.prototype.updated_canvas_event = function() {\n",
       "    // Called whenever the canvas gets updated.\n",
       "    this.send_message(\"ack\", {});\n",
       "}\n",
       "\n",
       "// A function to construct a web socket function for onmessage handling.\n",
       "// Called in the figure constructor.\n",
       "mpl.figure.prototype._make_on_message_function = function(fig) {\n",
       "    return function socket_on_message(evt) {\n",
       "        if (evt.data instanceof Blob) {\n",
       "            /* FIXME: We get \"Resource interpreted as Image but\n",
       "             * transferred with MIME type text/plain:\" errors on\n",
       "             * Chrome.  But how to set the MIME type?  It doesn't seem\n",
       "             * to be part of the websocket stream */\n",
       "            evt.data.type = \"image/png\";\n",
       "\n",
       "            /* Free the memory for the previous frames */\n",
       "            if (fig.imageObj.src) {\n",
       "                (window.URL || window.webkitURL).revokeObjectURL(\n",
       "                    fig.imageObj.src);\n",
       "            }\n",
       "\n",
       "            fig.imageObj.src = (window.URL || window.webkitURL).createObjectURL(\n",
       "                evt.data);\n",
       "            fig.updated_canvas_event();\n",
       "            fig.waiting = false;\n",
       "            return;\n",
       "        }\n",
       "        else if (typeof evt.data === 'string' && evt.data.slice(0, 21) == \"data:image/png;base64\") {\n",
       "            fig.imageObj.src = evt.data;\n",
       "            fig.updated_canvas_event();\n",
       "            fig.waiting = false;\n",
       "            return;\n",
       "        }\n",
       "\n",
       "        var msg = JSON.parse(evt.data);\n",
       "        var msg_type = msg['type'];\n",
       "\n",
       "        // Call the  \"handle_{type}\" callback, which takes\n",
       "        // the figure and JSON message as its only arguments.\n",
       "        try {\n",
       "            var callback = fig[\"handle_\" + msg_type];\n",
       "        } catch (e) {\n",
       "            console.log(\"No handler for the '\" + msg_type + \"' message type: \", msg);\n",
       "            return;\n",
       "        }\n",
       "\n",
       "        if (callback) {\n",
       "            try {\n",
       "                // console.log(\"Handling '\" + msg_type + \"' message: \", msg);\n",
       "                callback(fig, msg);\n",
       "            } catch (e) {\n",
       "                console.log(\"Exception inside the 'handler_\" + msg_type + \"' callback:\", e, e.stack, msg);\n",
       "            }\n",
       "        }\n",
       "    };\n",
       "}\n",
       "\n",
       "// from http://stackoverflow.com/questions/1114465/getting-mouse-location-in-canvas\n",
       "mpl.findpos = function(e) {\n",
       "    //this section is from http://www.quirksmode.org/js/events_properties.html\n",
       "    var targ;\n",
       "    if (!e)\n",
       "        e = window.event;\n",
       "    if (e.target)\n",
       "        targ = e.target;\n",
       "    else if (e.srcElement)\n",
       "        targ = e.srcElement;\n",
       "    if (targ.nodeType == 3) // defeat Safari bug\n",
       "        targ = targ.parentNode;\n",
       "\n",
       "    // jQuery normalizes the pageX and pageY\n",
       "    // pageX,Y are the mouse positions relative to the document\n",
       "    // offset() returns the position of the element relative to the document\n",
       "    var x = e.pageX - $(targ).offset().left;\n",
       "    var y = e.pageY - $(targ).offset().top;\n",
       "\n",
       "    return {\"x\": x, \"y\": y};\n",
       "};\n",
       "\n",
       "/*\n",
       " * return a copy of an object with only non-object keys\n",
       " * we need this to avoid circular references\n",
       " * http://stackoverflow.com/a/24161582/3208463\n",
       " */\n",
       "function simpleKeys (original) {\n",
       "  return Object.keys(original).reduce(function (obj, key) {\n",
       "    if (typeof original[key] !== 'object')\n",
       "        obj[key] = original[key]\n",
       "    return obj;\n",
       "  }, {});\n",
       "}\n",
       "\n",
       "mpl.figure.prototype.mouse_event = function(event, name) {\n",
       "    var canvas_pos = mpl.findpos(event)\n",
       "\n",
       "    if (name === 'button_press')\n",
       "    {\n",
       "        this.canvas.focus();\n",
       "        this.canvas_div.focus();\n",
       "    }\n",
       "\n",
       "    var x = canvas_pos.x * mpl.ratio;\n",
       "    var y = canvas_pos.y * mpl.ratio;\n",
       "\n",
       "    this.send_message(name, {x: x, y: y, button: event.button,\n",
       "                             step: event.step,\n",
       "                             guiEvent: simpleKeys(event)});\n",
       "\n",
       "    /* This prevents the web browser from automatically changing to\n",
       "     * the text insertion cursor when the button is pressed.  We want\n",
       "     * to control all of the cursor setting manually through the\n",
       "     * 'cursor' event from matplotlib */\n",
       "    event.preventDefault();\n",
       "    return false;\n",
       "}\n",
       "\n",
       "mpl.figure.prototype._key_event_extra = function(event, name) {\n",
       "    // Handle any extra behaviour associated with a key event\n",
       "}\n",
       "\n",
       "mpl.figure.prototype.key_event = function(event, name) {\n",
       "\n",
       "    // Prevent repeat events\n",
       "    if (name == 'key_press')\n",
       "    {\n",
       "        if (event.which === this._key)\n",
       "            return;\n",
       "        else\n",
       "            this._key = event.which;\n",
       "    }\n",
       "    if (name == 'key_release')\n",
       "        this._key = null;\n",
       "\n",
       "    var value = '';\n",
       "    if (event.ctrlKey && event.which != 17)\n",
       "        value += \"ctrl+\";\n",
       "    if (event.altKey && event.which != 18)\n",
       "        value += \"alt+\";\n",
       "    if (event.shiftKey && event.which != 16)\n",
       "        value += \"shift+\";\n",
       "\n",
       "    value += 'k';\n",
       "    value += event.which.toString();\n",
       "\n",
       "    this._key_event_extra(event, name);\n",
       "\n",
       "    this.send_message(name, {key: value,\n",
       "                             guiEvent: simpleKeys(event)});\n",
       "    return false;\n",
       "}\n",
       "\n",
       "mpl.figure.prototype.toolbar_button_onclick = function(name) {\n",
       "    if (name == 'download') {\n",
       "        this.handle_save(this, null);\n",
       "    } else {\n",
       "        this.send_message(\"toolbar_button\", {name: name});\n",
       "    }\n",
       "};\n",
       "\n",
       "mpl.figure.prototype.toolbar_button_onmouseover = function(tooltip) {\n",
       "    this.message.textContent = tooltip;\n",
       "};\n",
       "mpl.toolbar_items = [[\"Home\", \"Reset original view\", \"fa fa-home icon-home\", \"home\"], [\"Back\", \"Back to previous view\", \"fa fa-arrow-left icon-arrow-left\", \"back\"], [\"Forward\", \"Forward to next view\", \"fa fa-arrow-right icon-arrow-right\", \"forward\"], [\"\", \"\", \"\", \"\"], [\"Pan\", \"Pan axes with left mouse, zoom with right\", \"fa fa-arrows icon-move\", \"pan\"], [\"Zoom\", \"Zoom to rectangle\", \"fa fa-square-o icon-check-empty\", \"zoom\"], [\"\", \"\", \"\", \"\"], [\"Download\", \"Download plot\", \"fa fa-floppy-o icon-save\", \"download\"]];\n",
       "\n",
       "mpl.extensions = [\"eps\", \"jpeg\", \"pdf\", \"png\", \"ps\", \"raw\", \"svg\", \"tif\"];\n",
       "\n",
       "mpl.default_extension = \"png\";var comm_websocket_adapter = function(comm) {\n",
       "    // Create a \"websocket\"-like object which calls the given IPython comm\n",
       "    // object with the appropriate methods. Currently this is a non binary\n",
       "    // socket, so there is still some room for performance tuning.\n",
       "    var ws = {};\n",
       "\n",
       "    ws.close = function() {\n",
       "        comm.close()\n",
       "    };\n",
       "    ws.send = function(m) {\n",
       "        //console.log('sending', m);\n",
       "        comm.send(m);\n",
       "    };\n",
       "    // Register the callback with on_msg.\n",
       "    comm.on_msg(function(msg) {\n",
       "        //console.log('receiving', msg['content']['data'], msg);\n",
       "        // Pass the mpl event to the overridden (by mpl) onmessage function.\n",
       "        ws.onmessage(msg['content']['data'])\n",
       "    });\n",
       "    return ws;\n",
       "}\n",
       "\n",
       "mpl.mpl_figure_comm = function(comm, msg) {\n",
       "    // This is the function which gets called when the mpl process\n",
       "    // starts-up an IPython Comm through the \"matplotlib\" channel.\n",
       "\n",
       "    var id = msg.content.data.id;\n",
       "    // Get hold of the div created by the display call when the Comm\n",
       "    // socket was opened in Python.\n",
       "    var element = $(\"#\" + id);\n",
       "    var ws_proxy = comm_websocket_adapter(comm)\n",
       "\n",
       "    function ondownload(figure, format) {\n",
       "        window.open(figure.imageObj.src);\n",
       "    }\n",
       "\n",
       "    var fig = new mpl.figure(id, ws_proxy,\n",
       "                           ondownload,\n",
       "                           element.get(0));\n",
       "\n",
       "    // Call onopen now - mpl needs it, as it is assuming we've passed it a real\n",
       "    // web socket which is closed, not our websocket->open comm proxy.\n",
       "    ws_proxy.onopen();\n",
       "\n",
       "    fig.parent_element = element.get(0);\n",
       "    fig.cell_info = mpl.find_output_cell(\"<div id='\" + id + \"'></div>\");\n",
       "    if (!fig.cell_info) {\n",
       "        console.error(\"Failed to find cell for figure\", id, fig);\n",
       "        return;\n",
       "    }\n",
       "\n",
       "    var output_index = fig.cell_info[2]\n",
       "    var cell = fig.cell_info[0];\n",
       "\n",
       "};\n",
       "\n",
       "mpl.figure.prototype.handle_close = function(fig, msg) {\n",
       "    var width = fig.canvas.width/mpl.ratio\n",
       "    fig.root.unbind('remove')\n",
       "\n",
       "    // Update the output cell to use the data from the current canvas.\n",
       "    fig.push_to_output();\n",
       "    var dataURL = fig.canvas.toDataURL();\n",
       "    // Re-enable the keyboard manager in IPython - without this line, in FF,\n",
       "    // the notebook keyboard shortcuts fail.\n",
       "    IPython.keyboard_manager.enable()\n",
       "    $(fig.parent_element).html('<img src=\"' + dataURL + '\" width=\"' + width + '\">');\n",
       "    fig.close_ws(fig, msg);\n",
       "}\n",
       "\n",
       "mpl.figure.prototype.close_ws = function(fig, msg){\n",
       "    fig.send_message('closing', msg);\n",
       "    // fig.ws.close()\n",
       "}\n",
       "\n",
       "mpl.figure.prototype.push_to_output = function(remove_interactive) {\n",
       "    // Turn the data on the canvas into data in the output cell.\n",
       "    var width = this.canvas.width/mpl.ratio\n",
       "    var dataURL = this.canvas.toDataURL();\n",
       "    this.cell_info[1]['text/html'] = '<img src=\"' + dataURL + '\" width=\"' + width + '\">';\n",
       "}\n",
       "\n",
       "mpl.figure.prototype.updated_canvas_event = function() {\n",
       "    // Tell IPython that the notebook contents must change.\n",
       "    IPython.notebook.set_dirty(true);\n",
       "    this.send_message(\"ack\", {});\n",
       "    var fig = this;\n",
       "    // Wait a second, then push the new image to the DOM so\n",
       "    // that it is saved nicely (might be nice to debounce this).\n",
       "    setTimeout(function () { fig.push_to_output() }, 1000);\n",
       "}\n",
       "\n",
       "mpl.figure.prototype._init_toolbar = function() {\n",
       "    var fig = this;\n",
       "\n",
       "    var nav_element = $('<div/>')\n",
       "    nav_element.attr('style', 'width: 100%');\n",
       "    this.root.append(nav_element);\n",
       "\n",
       "    // Define a callback function for later on.\n",
       "    function toolbar_event(event) {\n",
       "        return fig.toolbar_button_onclick(event['data']);\n",
       "    }\n",
       "    function toolbar_mouse_event(event) {\n",
       "        return fig.toolbar_button_onmouseover(event['data']);\n",
       "    }\n",
       "\n",
       "    for(var toolbar_ind in mpl.toolbar_items){\n",
       "        var name = mpl.toolbar_items[toolbar_ind][0];\n",
       "        var tooltip = mpl.toolbar_items[toolbar_ind][1];\n",
       "        var image = mpl.toolbar_items[toolbar_ind][2];\n",
       "        var method_name = mpl.toolbar_items[toolbar_ind][3];\n",
       "\n",
       "        if (!name) { continue; };\n",
       "\n",
       "        var button = $('<button class=\"btn btn-default\" href=\"#\" title=\"' + name + '\"><i class=\"fa ' + image + ' fa-lg\"></i></button>');\n",
       "        button.click(method_name, toolbar_event);\n",
       "        button.mouseover(tooltip, toolbar_mouse_event);\n",
       "        nav_element.append(button);\n",
       "    }\n",
       "\n",
       "    // Add the status bar.\n",
       "    var status_bar = $('<span class=\"mpl-message\" style=\"text-align:right; float: right;\"/>');\n",
       "    nav_element.append(status_bar);\n",
       "    this.message = status_bar[0];\n",
       "\n",
       "    // Add the close button to the window.\n",
       "    var buttongrp = $('<div class=\"btn-group inline pull-right\"></div>');\n",
       "    var button = $('<button class=\"btn btn-mini btn-primary\" href=\"#\" title=\"Stop Interaction\"><i class=\"fa fa-power-off icon-remove icon-large\"></i></button>');\n",
       "    button.click(function (evt) { fig.handle_close(fig, {}); } );\n",
       "    button.mouseover('Stop Interaction', toolbar_mouse_event);\n",
       "    buttongrp.append(button);\n",
       "    var titlebar = this.root.find($('.ui-dialog-titlebar'));\n",
       "    titlebar.prepend(buttongrp);\n",
       "}\n",
       "\n",
       "mpl.figure.prototype._root_extra_style = function(el){\n",
       "    var fig = this\n",
       "    el.on(\"remove\", function(){\n",
       "\tfig.close_ws(fig, {});\n",
       "    });\n",
       "}\n",
       "\n",
       "mpl.figure.prototype._canvas_extra_style = function(el){\n",
       "    // this is important to make the div 'focusable\n",
       "    el.attr('tabindex', 0)\n",
       "    // reach out to IPython and tell the keyboard manager to turn it's self\n",
       "    // off when our div gets focus\n",
       "\n",
       "    // location in version 3\n",
       "    if (IPython.notebook.keyboard_manager) {\n",
       "        IPython.notebook.keyboard_manager.register_events(el);\n",
       "    }\n",
       "    else {\n",
       "        // location in version 2\n",
       "        IPython.keyboard_manager.register_events(el);\n",
       "    }\n",
       "\n",
       "}\n",
       "\n",
       "mpl.figure.prototype._key_event_extra = function(event, name) {\n",
       "    var manager = IPython.notebook.keyboard_manager;\n",
       "    if (!manager)\n",
       "        manager = IPython.keyboard_manager;\n",
       "\n",
       "    // Check for shift+enter\n",
       "    if (event.shiftKey && event.which == 13) {\n",
       "        this.canvas_div.blur();\n",
       "        event.shiftKey = false;\n",
       "        // Send a \"J\" for go to next cell\n",
       "        event.which = 74;\n",
       "        event.keyCode = 74;\n",
       "        manager.command_mode();\n",
       "        manager.handle_keydown(event);\n",
       "    }\n",
       "}\n",
       "\n",
       "mpl.figure.prototype.handle_save = function(fig, msg) {\n",
       "    fig.ondownload(fig, null);\n",
       "}\n",
       "\n",
       "\n",
       "mpl.find_output_cell = function(html_output) {\n",
       "    // Return the cell and output element which can be found *uniquely* in the notebook.\n",
       "    // Note - this is a bit hacky, but it is done because the \"notebook_saving.Notebook\"\n",
       "    // IPython event is triggered only after the cells have been serialised, which for\n",
       "    // our purposes (turning an active figure into a static one), is too late.\n",
       "    var cells = IPython.notebook.get_cells();\n",
       "    var ncells = cells.length;\n",
       "    for (var i=0; i<ncells; i++) {\n",
       "        var cell = cells[i];\n",
       "        if (cell.cell_type === 'code'){\n",
       "            for (var j=0; j<cell.output_area.outputs.length; j++) {\n",
       "                var data = cell.output_area.outputs[j];\n",
       "                if (data.data) {\n",
       "                    // IPython >= 3 moved mimebundle to data attribute of output\n",
       "                    data = data.data;\n",
       "                }\n",
       "                if (data['text/html'] == html_output) {\n",
       "                    return [cell, data, j];\n",
       "                }\n",
       "            }\n",
       "        }\n",
       "    }\n",
       "}\n",
       "\n",
       "// Register the function which deals with the matplotlib target/channel.\n",
       "// The kernel may be null if the page has been refreshed.\n",
       "if (IPython.notebook.kernel != null) {\n",
       "    IPython.notebook.kernel.comm_manager.register_target('matplotlib', mpl.mpl_figure_comm);\n",
       "}\n"
      ],
      "text/plain": [
       "<IPython.core.display.Javascript object>"
      ]
     },
     "metadata": {},
     "output_type": "display_data"
    },
    {
     "data": {
      "text/html": [
       "<img src=\"data:image/png;base64,iVBORw0KGgoAAAANSUhEUgAABQAAAAPACAYAAABq3NR5AAAAAXNSR0IArs4c6QAAQABJREFUeAHs3Qe8XVWVMPCV5KX3TkiBBBIS0kgoCgIWFGmihiIJU9Rx9HMIRYqUGVFsgDRp4xT7jARpinRRESkCSnojIQFSSe/Jy8tL3nfvmyFD3k5Cyiv3nvs/v58f9+597tl7/dcZ+d7yrnsaVeWOcBAgQIAAAQIECBAgQIAAAQIECBAgkEmBxpmMSlAECBAgQIAAAQIECBAgQIAAAQIECFQLKAC6EQgQIECAAAECBAgQIECAAAECBAhkWEABMMPJFRoBAgQIECBAgAABAgQIECBAgAABBUD3AAECBAgQIECAAAECBAgQIECAAIEMCygAZji5QiNAgAABAgQIECBAgAABAgQIECCgAOgeIECAAAECBAgQIECAAAECBAgQIJBhAQXADCdXaAQIECBAgAABAgQIECBAgAABAgQUAN0DBAgQIECAAAECBAgQIECAAAECBDIsoACY4eQKjQABAgQIECBAgAABAgQIECBAgIACoHuAAAECBAgQIECAAAECBAgQIECAQIYFFAAznFyhESBAgAABAgQIECBAgAABAgQIEFAAdA8QIECAAAECBAgQIECAAAECBAgQyLCAAmCGkys0AgQIECBAgAABAgQIECBAgAABAgqA7gECBAgQIECAAAECBAgQIECAAAECGRZQAMxwcoVGgAABAgQIECBAgAABAgQIECBAQAHQPUCAAAECBAgQIECAAAECBAgQIEAgwwIKgBlOrtAIECBAgAABAgQIECBAgAABAgQIKAC6BwgQIECAAAECBAgQIECAAAECBAhkWEABMMPJFRoBAgQIECBAgAABAgQIECBAgAABBUD3AAECBAgQIECAAAECBAgQIECAAIEMCygAZji5QiNAgAABAgQIECBAgAABAgQIECCgAOgeIECAAAECBAgQIECAAAECBAgQIJBhAQXADCdXaAQIECBAgAABAgQIECBAgAABAgQUAN0DBAgQIECAAAECBAgQIECAAAECBDIsoACY4eQKjQABAgQIECBAgAABAgQIECBAgIACoHuAAAECBAgQIECAAAECBAgQIECAQIYFFAAznFyhESBAgAABAgQIECBAgAABAgQIEFAAdA8QIECAAAECBAgQIECAAAECBAgQyLCAAmCGkys0AgQIECBAgAABAgQIECBAgAABAgqA7gECBAgQIECAAAECBAgQIECAAAECGRZQAMxwcoVGgAABAgQIECBAgAABAgQIECBAQAHQPUCAAAECBAgQIECAAAECBAgQIEAgwwIKgBlOrtAIECBAgAABAgQIECBAgAABAgQIKAC6BwgQIECAAAECBAgQIECAAAECBAhkWEABMMPJFRoBAgQIECBAgAABAgQIECBAgAABBUD3AAECBAgQIECAAAECBAgQIECAAIEMCygAZji5QiNAgAABAgQIECBAgAABAgQIECCgAOgeIECAAAECBAgQIECAAAECBAgQIJBhAQXADCdXaAQIECBAgAABAgQIECBAgAABAgQUAN0DBAgQIECAAAECBAgQIECAAAECBDIsoACY4eQKjQABAgQIECBAgAABAgQIECBAgIACoHuAAAECBAgQIECAAAECBAgQIECAQIYFFAAznFyhESBAgAABAgQIECBAgAABAgQIEFAAdA8QIECAAAECBAgQIECAAAECBAgQyLCAAmCGkys0AgQIECBAgAABAgQIECBAgAABAgqA7gECBAgQIECAAAECBAgQIECAAAECGRZQAMxwcoVGgAABAgQIECBAgAABAgQIECBAQAHQPUCAAAECBAgQIECAAAECBAgQIEAgwwIKgBlOrtAIECBAgAABAgQIECBAgAABAgQIKAC6BwgQIECAAAECBAgQIECAAAECBAhkWEABMMPJFRoBAgQIECBAgAABAgQIECBAgAABBUD3AAECBAgQIECAAAECBAgQIECAAIEMCygAZji5QiNAgAABAgQIECBAgAABAgQIECCgAOgeIECAAAECBAgQIECAAAECBAgQIJBhAQXADCdXaAQIECBAgAABAgQIECBAgAABAgQUAN0DBAgQIECAAAECBAgQIECAAAECBDIsoACY4eQKjQABAgQIECBAgAABAgQIECBAgIACoHuAAAECBAgQIECAAAECBAgQIECAQIYFFAAznFyhESBAgAABAgQIECBAgAABAgQIEFAAdA8QIECAAAECBAgQIECAAAECBAgQyLCAAmCGkys0AgQIECBAgAABAgQIECBAgAABAgqA7gECBAgQIECAAAECBAgQIECAAAECGRZQAMxwcoVGgAABAgQIECBAgAABAgQIECBAQAHQPUCAAAECBAgQIECAAAECBAgQIEAgwwIKgBlOrtAIECBAgAABAgQIECBAgAABAgQIKAC6BwgQIECAAAECBAgQIECAAAECBAhkWEABMMPJFRoBAgQIECBAgAABAgQIECBAgAABBUD3AAECBAgQIECAAAECBAgQIECAAIEMCygAZji5QiNAgAABAgQIECBAgAABAgQIECCgAOgeIECAAAECBAgQIECAAAECBAgQIJBhAQXADCdXaAQIECBAgAABAgQIECBAgAABAgQUAN0DBAgQIECAAAECBAgQIECAAAECBDIsoACY4eQKjQABAgQIECBAgAABAgQIECBAgIACoHuAAAECBAgQIECAAAECBAgQIECAQIYFFAAznFyhESBAgAABAgQIECBAgAABAgQIEFAAdA8QIECAAAECBAgQIECAAAECBAgQyLCAAmCGkys0AgQIECBAgAABAgQIECBAgAABAgqA7gECBAgQIECAAAECBAgQIECAAAECGRZQAMxwcoVGgAABAgQIECBAgAABAgQIECBAQAHQPUCAAAECBAgQIECAAAECBAgQIEAgwwIKgBlOrtAIECBAgAABAgQIECBAgAABAgQIKAC6BwgQIECAAAECBAgQIECAAAECBAhkWEABMMPJFRoBAgQIECBAgAABAgQIECBAgAABBUD3AAECBAgQIECAAAECBAgQIECAAIEMCygAZji5QiNAgAABAgQIECBAgAABAgQIECCgAOgeIECAAAECBAgQIECAAAECBAgQIJBhAQXADCdXaAQIECBAgAABAgQIECBAgAABAgQUAN0DBAgQIECAAAECBAgQIECAAAECBDIsoACY4eQKjQABAgQIECBAgAABAgQIECBAgIACoHuAAAECBAgQIECAAAECBAgQIECAQIYFFAAznFyhESBAgAABAgQIECBAgAABAgQIEFAAdA8QIECAAAECBAgQIECAAAECBAgQyLCAAmCGkys0AgQIECBAgAABAgQIECBAgAABAgqA7gECBAgQIECAAAECBAgQIECAAAECGRZQAMxwcoVGgAABAgQIECBAgAABAgQIECBAQAHQPUCAAAECBAgQIECAAAECBAgQIEAgwwIKgBlOrtAIECBAgAABAgQIECBAgAABAgQIKAC6BwgQIECAAAECBAgQIECAAAECBAhkWEABMMPJFRoBAgQIECBAgAABAgQIECBAgAABBUD3AAECBAgQIECAAAECBAgQIECAAIEMCygAZji5QiNAgAABAgQIECBAgAABAgQIECCgAOgeIECAAAECBAgQIECAAAECBAgQIJBhAQXADCdXaAQIECBAgAABAgQIECBAgAABAgQUAN0DBAgQIECAAAECBAgQIECAAAECBDIsoACY4eQKjQABAgQIECBAgAABAgQIECBAgIACoHuAAAECBAgQIECAAAECBAgQIECAQIYFFAAznFyhESBAgAABAgQIECBAgAABAgQIEFAAdA8QIECAAAECBAgQIECAAAECBAgQyLCAAmCGkys0AgQIECBAgAABAgQIECBAgAABAgqA7gECBAgQIECAAAECBAgQIECAAAECGRZQAMxwcoVGgAABAgQIECBAgAABAgQIECBAQAHQPUCAAAECBAgQIECAAAECBAgQIEAgwwJlGY5NaAUsUF5eHlOmTKneYdeuXaOszK1YwOmyNQIECBAgQIAAAQIECBAoUoHKyspYtmxZ9e6HDh0aLVq0KNJIbHt/BFRd9kfPZ/dZIF/8O+aYY/b58z5IgAABAgQIECBAgAABAgQI7J3AK6+8EkcfffTefcjZmRDQApyJNAqCAAECBAgQIECAAAECBAgQIECAwM4FfANw5y5G61gg3/b7zpH/XyB69Ojxzlv/JECAAAECBAgQIECAAAECBGpJYPHixds78N79t3gtXd5likRAAbBIEpW1bb77N//yxb9evXplLUTxECBAgAABAgQIECBAgACBghJ499/iBbUxm6lzAS3AdU5sAQIECBAgQIAAAQIECBAgQIAAAQINJ6AA2HD2ViZAgAABAgQIECBAgAABAgQIECBQ5wIKgHVObAECBAgQIECAAAECBAgQIECAAAECDSegANhw9lYmQIAAAQIECBAgQIAAAQIECBAgUOcCCoB1TmwBAgQIECBAgAABAgQIECBAgAABAg0noADYcPZWJkCAAAECBAgQIECAAAECBAgQIFDnAgqAdU5sAQIECBAgQIAAAQIECBAgQIAAAQINJ6AA2HD2ViZAgAABAgQIECBAgAABAgQIECBQ5wIKgHVObAECBAgQIECAAAECBAgQIECAAAECDSegANhw9lYmQIAAAQIECBAgQIAAAQIECBAgUOcCCoB1TmwBAgQIECBAgAABAgQIECBAgAABAg0noADYcPZWJkCAAAECBAgQIECAAAECBAgQIFDnAgqAdU5sAQIECBAgQIAAAQIECBAgQIAAAQINJ6AA2HD2ViZAgAABAgQIECBAgAABAgQIECBQ5wIKgHVObAECBAgQIECAAAECBAgQIECAAAECDSegANhw9lYmQIAAAQIECBAgQIAAAQIECBAgUOcCCoB1TmwBAgQIECBAgAABAgQIECBAgAABAg0noADYcPZWJkCAAAECBAgQIECAAAECBAgQIFDnAgqAdU5sAQIECBAgQIAAAQIECBAgQIAAAQINJ6AA2HD2ViZAgAABAgQIECBAgAABAgQIECBQ5wIKgHVObAECBAgQIECAAAECBAgQIECAAAECDSegANhw9lYmQIAAAQIECBAgQIAAAQIECBAgUOcCCoB1TmwBAgQIECBAgAABAgQIECBAgAABAg0noADYcPZWJkCAAAECBAgQIECAAAECBAgQIFDnAgqAdU5sAQIECBAgQIAAAQIECBAgQIAAAQINJ6AA2HD2ViZAgAABAgQIECBAgAABAgQIECBQ5wIKgHVObAECBAgQIECAAAECBAgQIECAAAECDSegANhw9lYmQIAAAQIECBAgQIAAAQIEilCgcuu2Ity1LZeygAJgKWdf7AQIECBAgAABAgQIECBAgMAeC2zdVhW3PT0rzvuPl2KLIuAeuzmx4QUUABs+B3ZAgAABAgQIECBAgAABAgQIFLjA0rXl8Tc/fDlu//3s+Otbq+Lmp14r8B3bHoH/E1AA/D8LrwgQIECAAAECBAgQIECAAAECicBzs5fFaXc8F3+eu2L73L//aW48M3Pp9vdeEChkgbJC3py9ESBAgAABAgQIECBAgAABAgQaSiD/W3/f/93suPuPr0dV1Y67aNK4UcxbuXHHQe8IFKiAAmCBJsa2CBAgQIAAAQIECBAgQIAAgYYTWLxmU1w8bmK88ubKZBM92reIO0ePiKMO7pTMGSBQiAIKgIWYFXsiQIAAAQIECBAgQIAAAQIEGkwg39p76X0TY9XGLckeThrYLW4+Z3h0bN0smTNAoFAFFAALNTP2RYAAAQIECBAgQIAAAQIECNSrQP7JvvmHe+R/36/mUZZr+b3q1IHxD8f3jUaNGtWc9p5AQQsoABZ0emyOAAECBAgQIECAAAECBAgQqA+Bhas3xYX3jI/x81Yny/Xs0DLuGjMiRvTpmMwZIFAMAgqAxZAleyRAgAABAgQIECBAgAABAgTqTODp6Uvi8vsnxZpNacvvyYd3j5vOHh7tWzWts/VdmEBdCygA1rWw6xMgQIAAAQIECBAgQIAAAQIFKVBRuS1ueGJm/PiFN5L9NWvSOK45bWD8/XEHa/lNdAwUm4ACYLFlzH4JECBAgAABAgQIECBAgACB/RaYv3JjjM21/E5asCa5Vp9OreLuMSNjaK/2yZwBAsUooABYjFmzZwIECBAgQIAAAQIECBAgQGCfBZ6cujiueGByrCuvTK5x+tAecf1ZQ6NdCy2/CY6BohVQACza1Nk4AQIECBAgQIAAAQIECBAgsDcC5Vu2xvWPz4if/fmt5GPNyhrHtWccHue/r4+W30THQLELKAAWewbtnwABAgQIECBAgAABAgQIEHhPgTeXb4gLci2/0xatTc7t26V19VN+Bx+o5TfBMZAJAQXATKRREAQIECBAgAABAgQIECBAgMCuBB6ZtCiufmhKrN+ctvx+8ogD4zufHhptmiuR7MrPePELuLuLP4ciIECAAAECBAgQIECAAAECBHYikG/5ve6R6THulXnJbPNcy+83Pzk4zj2qt5bfRMdA1gQUALOWUfEQIECAAAECBAgQIECAAAECMWfZ+rjgF+Nj5tvrEo1DuraOfz3/yDjsgLbJnAECWRRQAMxiVsVEgAABAgQIECBAgAABAgRKWOBXExbEP/9qamys2JoonDWyV3zrU4OjVTMlkQTHQGYF3O2ZTa3ACBAgQIAAAQIECBAgQIBAaQlsyhX8rn14atz/6oIk8JZNm+QKf0Pi7CN7JXMGCGRdQAEw6xkWHwECBAgQIECAAAECBAgQKAGBWUvWVbf8zl66Pon2sO5tq5/y2z/3TweBUhRQACzFrIuZAAECBAgQIECAAAECBAhkRKCqqqr6G3/5b/6Vb9mWRHXe0b3j658YHC2bNUnmDBAoFQEFwFLJtDgJECBAgAABAgQIECBAgEDGBDZsroyv/XpqPDRhYRJZ61zB77ujhsYnj+iZzBkgUGoCCoCllnHxEiBAgAABAgQIECBAgACBDAjMWLw2LrhnfMxdtiGJZlCPdnH3mBHRr2ubZM4AgVIUUAAsxayLmQABAgQIECBAgAABAgQIFKlAvuV33Cvz47pHpsXmyrTl92/e3yf+5fTDo0XuoR8OAgT+R0AB0J1AgAABAgQIECBAgAABAgQIFIXAuvItcc2vpsYjkxYl+23bvCyuP2tonDHswGTOAIFSF1AALPU7QPwECBAgQIAAAQIECBAgQKAIBKYuXBNjcy2/b67YmOx2aM/21U/5Pahz62TOAAECEQqA7gICBAgQIECAAAECBAgQIECgYAXyLb//9dJb8e1HZ0TF1rTl97PHHRxXnzYwmpdp+S3YJNpYgwsoADZ4CmyAAAECBAgQIECAAAECBAgQ2JnAmk1b4qoHJ8cTU99Optu1KIvvnT08ThlyQDJngACBHQUUAHf08I4AAQIECBAgQIAAAQIECBAoAIFJ81fH2HHjY/7KTcluhvfuEHeNHhG9O7VK5gwQIJAKKACmJkYIECBAgAABAgQIECBAgACBBhLIt/z++IU344YnZsSWrVXJLv7xhL5xxccHRrOyxsmcAQIEdi6gALhzF6MECBAgQIAAAQIECBAgQIBAPQus3lgRl98/OX43Y0mycodWTeOWc4bHSYO6J3MGCBDYvYAC4O59zBIgQIAAAQIECBAgQIAAAQL1IPDqW6vionETYuHqtOX3qIM6xh25lt8DO7Ssh51YgkD2BBQAs5dTEREgQIAAAQIECBAgQIAAgaIR2LatKv7zublx01OvRWXudc3jyx86JC792IBo2kTLb00b7wnsqYAC4J5KOY8AAQIECBAgQIAAAQIECBCoVYGVGyrisvsmxjOvLUuu26l1s7j13OHxocO6JXMGCBDYOwEFwL3zcjYBAgQIECBAgAABAgQIECBQCwKvvLGyuuX37bXlydWO6dsp7jhvRBzQvkUyZ4AAgb0XUADcezOfIECAAAECBAgQIECAAAECBPZRIN/y+4Nn58StT8+KrTVafhs1irjww4fGRSf1jzItv/so7GMEUgEFwNTECAECBAgQIECAAAECBAgQIFAHAsvXb46v/HJiPDd7eXL1Lm2ax/c/c0Qc379LMmeAAIH9E1AA3D8/nyZAgAABAgQIECBAgAABAgT2QODFOcvj4nsnxrJ1m5Ozjzukc3z/vCOiW1stvwmOAQK1IKAAWAuILkGAAAECBAgQIECAAAECBAjsXCDf5nvnH2bHHb+fHTU6fqNxruX3ko8OiAtybb9N8m8cBAjUiYACYJ2wuigBAgQIECBAgAABAgQIECCwNPeAj0tyLb8vzlmRYHRr2zxuzz3o49jct/8cBAjUrYACYN36ujoBAgQIECBAgAABAgQIEChJgedmL6v+vb/l6yuS+E8c0DVuPXd45H/3z0GAQN0LKADWvbEVCBAgQIAAAQIECBAgQIBAyQhUbt0W3//d7Lj7j69HVdWOYefbfC87eUD8vxMPicZafnfE8Y5AHQooANYhrksTIECAAAECBAgQIECAAIFSEnh7TXlcNG5CvPLmyiTsHu1bxB2jR8TRB3dK5gwQIFC3AgqAdevr6gQIECBAgAABAgQIECBAoCQEnnltaVx236RYuSFt+f3IwG5xyznDo2PrZiVhIUgChSagAFhoGbEfAgQIECBAgAABAgQIECBQRAJbci2/N//2tfj3Z+cmuy7LtfleecrA+Ifj+2r5TXQMEKg/AQXA+rO2EgECBAgQIECAAAECBAgQyJTAwtWbqlt+X31rVRJXzw4t484xI2Jkn47JnAECBOpXQAGwfr2tRoAAAQIECBAgQIAAAQIEMiHwu+lL4rL7J8WaTVuSeE4+vHvcdPbwaN+qaTJngACB+hdQAKx/cysSIECAAAECBAgQIECAAIGiFaio3Bbfe3Jm/PD5N5IYmjZpFNecNig+e9zB0ahRo2TeAAECDSOgANgw7lYlQIAAAQIECBAgQIAAAQJFJzB/5cYYm3vK76T5q5O99+nUKu7KtfwO69UhmTNAgEDDCigANqy/1QkQIECAAAECBAgQIECAQFEIPDl1cVzxwORYV16Z7Pe0oQfEDWcNi3YttPwmOAYIFICAAmABJMEWCBAgQIAAAQIECBAgQIBAoQpsrtwa331sRvzsz28lW2xW1ji+dsbh8Tfv66PlN9ExQKBwBBQACycXdkKAAAECBAgQIECAAAECBApK4M3lG3Itv+Nj6sK1yb76dmld3fI7+MD2yZwBAgQKS0ABsLDyYTcECBAgQIAAAQIECBAgQKAgBB6dvCiuenBKrN+ctvyeOfzA+O6oodGmubJCQSTLJgi8h4D/S30PINMECBAgQIAAAQIECBAgQKCUBMq3bI1vPjo97nl5XhJ281zL73VnDo7PHN1by2+iY4BA4QooABZubuyMAAECBAgQIECAAAECBAjUq8CcZevjgl+Mj5lvr0vWPaRr67j7/JEx8IB2yZwBAgQKW0ABsLDzY3cECBAgQIAAAQIECBAgQKBeBH49YWFc86spsbFia7LeqJE941ufHBKttfwmNgYIFIOAAmAxZMkeCRAgQIAAAQIECBAgQIBAHQlsyhX8vvGbafHLv85PVmjZtEl885OD45yjeidzBggQKB4BBcDiyZWdEiBAgAABAgQIECBAgACBWhWYvWRdXHDP+Ji1ZH1y3QHd28TdY0ZG/+5tkzkDBAgUl4ACYHHly24JECBAgAABAgQIECBAgECtCNyf+8bftQ9Pi025h37UPM7LPeTj658YHC2bNak55T0BAkUooABYhEmzZQIECBAgQIAAAQIECBAgsK8CGzZXxtcenhoPjV+YXKJ1ruD33VFD45NH9EzmDBAgULwCCoDFmzs7J0CAAAECBAgQIECAAAECeyUw8+211U/5nbNsQ/K5QT3a5Vp+R0S/rm2SOQMECBS3gAJgcefP7gkQIECAAAECBAgQIECAwHsKVFVVxb1/mV/9sI/NlduS889/X5/42hmHR4vcQz8cBAhkT0ABMHs5FREBAgQIECBAgAABAgQIENgusK58S1zzq6nxyKRF28feedGmeVnccNbQOGPYge8M+ScBAhkUUADMYFKFRIAAAQIECBAgQIAAAQIE8gJTF66Jsbmn/L65YmMCMqRnvuV3ZBzUuXUyZ4AAgWwJKABmK5+iIUCAAAECBAgQIECAAAECkW/5/e+X3opvPTojKramLb+fPe7guPq0gdG8TMuv24VAKQgoAJZClsVIgAABAgQIECBAgAABAiUjsDbX8nvVg5Pj8SlvJzG3bVEWN509LE4Z0iOZM0CAQHYFFACzm1uRESBAgAABAgQIECBAgECJCUxesDouyLX8zl+5KYl8eO8OcdfoEdG7U6tkzgABAtkWaJzt8ET3XgIVFRXxox/9KE455ZTo0aNHNG/ePNq0aROHHXZYfP7zn4+XXnrpvS5hngABAgQIECBAgAABAgQaWCDf8vvj59+Is37w4k6Lf184vm/c/6VjFf8aOE+WJ9BQAr4B2FDyBbDu/Pnz4/TTT48pU6bssJt8UXDWrFnV//nJT34SX/nKV+KWW26JRo0a7XCeNwQIECBAgAABAgQIECDQ8AJrNm6JKx6YFL+dviTZTPuWTeOWc4bHRw/vnswZIECgdAQUAEsn1ztEWllZuUPxb9iwYXHppZdWf/Nv3bp18fzzz1cX/TZs2BC33XZb9bcDr7jiih2u4Q0BAgQIECBAgAABAgQINKzA+Hmr4sJ7JsTC1WnL75EHdYw7ci2/PTu0bNhNWp0AgQYXaJT7mnBVg+/CBupd4MEHH4yzzz67et1jjz02nnvuuWjSZMenP7366quRn9uyZUt07Ngxli5dGmVltVMzXrBgQfTu3bt6/fw3EXv16lXvBhYkQIAAAQIECBAgQIBAsQps21YVP3x+bnzvydeiMve65vH/PnhIXHbygGjaxC9/1bQptff+/i61jO88Xv9NsHOXzI++8MIL22O8+uqrk+JffvLII4+MM844o/q8VatWxcyZM7d/xgsCBAgQIECAAAECBAgQaBiBlRsq4gs//2t89/GZSfGvU+tm8dPPHR1XnTpQ8a9h0mNVAgUpUDtf5yrI0GxqdwL53/l75+jXr987L5N/HnLIIdvHNm/evP21FwQIECBAgAABAgQIECBQ/wJ/eXNlXDRuQixeU54sfkzfTnHHeSPigPYtkjkDBAiUtoACYInmf8CAAdsjnzt3bgwePHj7+3e/mDNnTvXb/ANA+vfv/+4prwkQIECAAAECBAgQIECgngTyLb8/eHZO3Pr0rNhao+U3/7zGsR8+NC4+qX+Uafmtp4xYhkBxCWgBLq581dpuR48eHe3atau+3o033hhbt25Nrj1hwoR47LHHqsfPO++87ecnJxogQIAAAQIECBAgQIAAgToTWL5+c/z9T16Jm556LSn+dWnTLP7r8+/L/d7fYYp/dZYBFyZQ/AK+AVj8OdynCLp27Ro//elP4/zzz4/87wEeffTRcckll0T+m4Hr16+vHrvlllsi3yp8xBFHxK233rpX6+R/ZHR3x+LFi3c3bY4AAQIECBAgQIAAAQIEcgJ/nrMiLr53Qixdl/4k03GHdI7vf+aI6NZOy6+bhQCB3Qt4CvDufTI/O3369Ori3o9//OOo+UDo7t27x5VXXhlf/OIXo3Xr1ntlkW8Z3tPDU4D3VMp5BAgQIECAAAECBAiUikC+zfeuP7wet/9+VtTo+I3GuT+3Lj5pQIz9yKHRJP/GQWA3Ap4CvBucEpryDcASSnbNULds2RL33HNPPPLII0nxL3/ukiVLYty4cdXfCjz99NNrftx7AgQIECBAgAABAgQIEKgDgaXryuOSeyfGi7lv/9U8urVtHrfnHvRxbO7bfw4CBAjsqYAC4J5KZey8DRs2xGmnnRZ/+tOfokmTJvHVr341Pve5z0X+icDl5eXx8ssvxze/+c14/vnn4xOf+ETcdtttcfHFF++xQv5bfbs78i3AxxxzzO5OMUeAAAECBAgQIECAAIGSE3h+9vK45JcTI/+7fzWPE/p3idtyLb9d2jSvOeU9AQIEdiugBXi3PNmdvPzyyyP/G3/5I/9bgH//93+fBFtZWRknn3xyPPPMM9G4cePIPxRk2LBhyXn7MuAryPui5jMECBAgQIAAAQIECGRVoHLrtly77+y465nXcx1aO0aZb/O99GMD4ssfPCT3t5mW3x11vHsvAX9/v5dQacx7CnBp5HmHKPO/9feTn/ykeiz/0I+dFf/yk2VlZfGtb32r+rxt27Zt/0z1gP+HAAECBAgQIECAAAECBGpF4O015THmhy/Hnbnf/KtZ/Dsg94CPe7/4/rjgw4cq/tWKtosQKE0BLcAlmPf8b/utXLmyOvIRI0bsVuDII4/cPj9z5sztr70gQIAAAQIECBAgQIAAgf0X+ONrS+PS+ybFyg0VycU+MrBb3HzO8OjUulkyZ4AAAQJ7I6AAuDdaGTk3/82+d458m+/ujvyDQt453v25d8b8kwABAgQIECBAgAABAgT2XmBLruX3lt/Oin97dk7y4bJcm+9XTzksvnB8P9/6S3QMECCwLwL/Vwnal0/7TFEKdOrUKdq1axdr166NP//5z5EvAu6quPfss89uj7Fv377bX3tBgAABAgQIECBAgAABAvsmsGj1prhw3IR49a1VyQV6dmgZd44ZESP7dEzmDBAgQGBfBfwG4L7KFfHn8g/0OP3006sjWLRoUXznO9/ZaTSrVq2KK6+8cvvcGWecsf21FwQIECBAgAABAgQIECCw9wK/m74kTrvjuZ0W/z52ePd47KLjFf/2ntUnCBB4DwHfAHwPoKxOX3vttfHwww/Hxo0b4xvf+Ea8+uqr1Q8D6devX5SXl8dLL70U3//+92PevHnVBCeddFL1E4Gz6iEuAgQIECBAgAABAgQI1KVAReW2+N6TM+OHz7+RLNO0SaO4+tRB8bkPHByNGnnKbwJkgACB/RZQANxvwuK8wMCBA6sLgKNHj47ly5fHI488Uv2fnUXzkY98JO6///6dTRkjQIAAAQIECBAgQIAAgfcQmL9yY4zNtfxOmr86ObN3p5Zx1+iRMbx3h2TOAAECBGpLQAGwtiSL8Dof/ehHI/9k3x/96EfxxBNPxLRp02L16tXVvwd4wAEHxNFHHx1jxoyJM8880/8KVYT5tWUCBAgQIECAAAECBBpe4Mmpb8dXH5gUa8vTBzCeOuSAuOGsYdG+ZdOG36gdECCQaYFGVbkj0xEKriAFFixYEL17967e2/z586NXr14FuU+bIkCAAAECBAgQIECAwL4IbK7cGtc/PjN++uKbycebNWkcXztjUPzN+w/yZYtEx0BtC/j7u7ZFi/N6vgFYnHmzawIECBAgQIAAAQIECBAoUIG3VmyIsfdMiCkL1yQ7PLhzq7hrzMgY0rN9MmeAAAECdSWgAFhXsq5LgAABAgQIECBAgAABAiUn8OjkRXHVg1Ni/ea05ffM4QfGd0cNjTbN/SlecjeGgAk0sID/1mngBFieAAECBAgQIECAAAECBIpfoHzL1vjWo9PjFy/PS4JpXtY4vnHm4Djv6N5afhMdAwQI1IeAAmB9KFuDAAECBAgQIECAAAECBDIrMHfZ+rgg1/I7Y/HaJMZ+XVvH3bmW30E92iVzBggQIFBfAgqA9SVtHQIECBAgQIAAAQIECBDInMCvJyyMa341JTZWbE1iGzWiZ3zrU0OitZbfxMYAAQL1K6AAWL/eViNAgAABAgQIECBAgACBDAhsyhX8vvGbafHLv85PomnRtHF865ND4pyjeidzBggQINAQAgqADaFuTQIECBAgQIAAAQIECBAoWoHXl66LC34xIV5bsi6JYUD3NtUtv/27t03mDBAgQKChBBQAG0reugQIECBAgAABAgQIECBQdAIPvLogvvbrqbEp99CPmse5R/WK684cEi2bNak55T0BAgQaVEABsEH5LU6AAAECBAgQIECAAAECxSCwsaIy/iVX+Hto/MJku61yBb/vfHpIfHpEr2TOAAECBApBQAGwELJgDwQIECBAgAABAgQIECBQsAIz316ba/kdH3OWbUj2OPCAtnH3+SPjkK5tkjkDBAgQKBQBBcBCyYR9ECBAgAABAgQIECBAgEBBCVRVVcUv/zI/vp572Mfmym3J3sa8r09ce8bh0aKplt8ExwABAgUloABYUOmwGQIECBAgQIAAAQIECBAoBIH1myvjmoemxG8mLUq206Z5WVw/amh8YviByZwBAgQIFKKAAmAhZsWeCBAgQIAAAQIECBAgQKDBBKYtWhNj75kQbyxPW36H9GwXd40eGQd3ad1g+7MwAQIE9lZAAXBvxZxPgAABAgQIECBAgAABApkUyLf8/vfL8+Jbj06Pip20/H72uIPj6tMGRvMyLb+ZvAEERSDDAgqAGU6u0AgQIECAAAECBAgQIEBgzwTWlm+Jqx+cEo9NWZx8oG2Lsrjp7GFxypAeyZwBAgQIFIOAAmAxZMkeCRAgQIAAAQIECBAgQKDOBCYvWF3d8jtv5cZkjeG92sddY0ZG706tkjkDBAgQKBYBBcBiyZR9EiBAgAABAgQIECBAgECtCuRbfn/64pvx3cdnxJatVcm1/+H4vnHlKQOjWVnjZM4AAQIEiklAAbCYsmWvBAgQIECAAAECBAgQIFArAms2bokrHpgUv52+JLle+5ZN4+ZzhsfHDu+ezBkgQIBAMQooABZj1uyZAAECBAgQIECAAAECBPZZYMK8VdUtvwtXb0quMbJPh7gz1/Lbs0PLZM4AAQIEilVAAbBYM2ffBAgQIECAAAECBAgQILBXAtu2VcWPnn8jbnxyZlTmXtc8vvTBfnH5yYdF0yZafmvaeE+AQHELKAAWd/7sngABAgQIECBAgAABAgT2QGDVhoq47P5J8YeZS5OzO7VuFrecOzw+fFi3ZM4AAQIEsiCgAJiFLIqBAAECBAgQIECAAAECBHYp8Nc3V8aF4ybE4jXlyTnHHNwp7hg9Ig5o3yKZM0CAAIGsCCgAZiWT4iBAgAABAgQIECBAgACBHQTyLb//9qc5cctvZ8XWGi2/jRpFjP3woXHxSf2jTMvvDm7eECCQPQEFwOzlVEQECBAgQIAAAQIECBAoeYHl6zfHpfdNij/NWpZYdGnTLG77zBFxQv+uyZwBAgQIZFFAATCLWRUTAQIECBAgQIAAAQIESljgpbkr4qJcy+/SdZsThWP7dY7bzzsiurXT8pvgGCBAILMCCoCZTa3ACBAgQIAAAQIECBAgUFoC+Tbfu595Pb7/u1lRo+M38i2/+XbfCz/SP5o0zr1xECBAoIQEFABLKNlCJUCAAAECBAgQIECAQFYFlq4rj6/8cmK88PqKJMSubZtXf+vvuEO6JHMGCBAgUAoCCoClkGUxEiBAgAABAgQIECBAIMMCL7y+PC6+d2Lkf/ev5nFC/y7Vv/fXpU3zmlPeEyBAoGQEFABLJtUCJUCAAAECBAgQIECAQLYE8i2/t+fafe/Mtf1WVe0YW77L97KTD4svf/CQaKzld0cc7wgQKDkBBcCSS7mACRAgQIAAAQIECBAgUPwCS9aWVz/o4+U3VibBHJB7wMcdo0fEMX07JXMGCBAgUIoCCoClmHUxEyBAgAABAgQIECBAoIgF/vja0rj0vkmxckNFEsWHDusat557RHRq3SyZM0CAAIFSFVAALNXMi5sAAQIECBAgQIAAAQJFJlC5dVvc8vSs+MEf5yQ7L8u1+V7x8cPiH0/op+U30TFAgECpCygAlvodIH4CBAgQIECAAAECBAgUgcCi1ZuqW37/+taqZLc9O7Ssbvk98qCOyZwBAgQIEIhQAHQXECBAgAABAgQIECBAgEBBC/x+xpK47P5JsXrjlmSfHx3UPW4+Z1h0aKXlN8ExQIAAgf8VUAB0KxAgQIAAAQIECBAgQIBAQQpUVG6Lm56aGf/53BvJ/po2aRRXnTooPv+Bg6NRo9wjfx0ECBAgsEsBBcBd0pggQIAAAQIECBAgQIAAgYYSmL9yY1w4bkJMnL862ULvTi3jrtEjY3jvDsmcAQIECBBIBRQAUxMjBAgQIECAAAECBAgQINCAAk9NezuuyLX8ri2vTHZx6pAD4oazhkX7lk2TOQMECBAgsHMBBcCduxglQIAAAQIECBAgQIAAgXoW2Fy5Na5/fGb89MU3k5WbNWkc/3LGoPjb9x+k5TfRMUCAAIHdCygA7t7HLAECBAgQIECAAAECBAjUg8BbKzbE2HsmxJSFa5LVDurcKu4eMzKG9GyfzBkgQIAAgfcWUAB8byNnECBAgAABAgQIECBAgEAdCjw2eXFc9eDkWLc5bfk9Y1iPuH7U0GjbQstvHabApQkQyLiAAmDGEyw8AgQIECBAgAABAgQIFKpA+Zat8e3Hpsd/vzQv2WKzssbxjU8MjtHH9Nbym+gYIECAwN4JKADunZezCRAgQIAAAQIECBAgQKAWBOYuWx8X5Fp+Zyxem1ytX9fW1S2/g3q0S+YMECBAgMDeCygA7r2ZTxAgQIAAAQIECBAgQIDAfgg8PHFhXPPQlNhQsTW5yqgRPeNbnxoSrZv7czXBMUCAAIF9FPDfqPsI52MECBAgQIAAAQIECBAgsHcCm3IFv+semRb3/mV+8sEWTRvHNz85JM45speW30THAAECBPZPQAFw//x8mgABAgQIECBAgAABAgT2QOD1pevigl9MiNeWrEvO7t+tTdx9/sgY0L1tMmeAAAECBPZfQAFw/w1dgQABAgQIECBAgAABAgR2I/DAqwvia7+eGptyD/2oeZx7VK+47swh0bJZk5pT3hMgQIBALQkoANYSpMsQIECAAAECBAgQIECAwI4CGysqc4W/afHg+AU7TuTetcoV/L6d+62/USN7JXMGCBAgQKB2BRQAa9fT1QgQIECAAAECBAgQIEAgJ/Da27mW33vGx+tL1yceAw9oG3eNGRmH5lp/HQQIECBQ9wIKgHVvbAUCBAgQIECAAAECBAiUjEBVVVX8MveQj6//ZlpsrtyWxD3mfX3i2jMOjxZNtfwmOAYIECBQRwIKgHUE67IECBAgQIAAAQIECBAoNYH1myvjn381JR6euCgJvU3zsvjuqKFx5vADkzkDBAgQIFC3AgqAdevr6gQIECBAgAABAgQIECgJgWmL1sSF90yIucs3JPEOPrBddctv3y6tkzkDBAgQIFD3AgqAdW9sBQIECBAgQIAAAQIECGRWIN/y+98vz4tvPTo9KnbS8vt3xx4U15w2SMtvZu8AgREgUAwCCoDFkCV7JECAAAECBAgQIECAQAEKrC3fElc/NCUem7w42V3bFmXxvbOGxalDeyRzBggQIECgfgUUAOvX22oECBAgQIAAAQIECBDIhMCUBWuqn/I7b+XGJJ7hvdrHnaNHRp/OrZI5AwQIECBQ/wIKgPVvbkUCBAgQIECAAAECBAgUrUC+5fdnL74Z3318ZlRsTZ/y+/kP9I2rTh0YzcoaF22MNk6AAIGsCSgAZi2j4iFAgAABAgQIECBAgEAdCazZuCW++uCkeGrakmSF9i2bxs3nDI+PHd49mTNAgAABAg0roADYsP5WJ0CAAAECBAgQIECAQFEITJi3Ki4cNyEWrNqU7HdEnw65lt8R0aujlt8ExwABAgQKQEABsACSYAsECBAgQIAAAQIECBAoVIF8y++Pnn8jbnhiZlRuq0q2+aUP9ovLTz4smjbR8pvgGCBAgECBCCgAFkgibIMAAQIECBAgQIAAAQKFJrBqQ0Vcfv+k+P3MpcnWOrZqGreee0R8eGC3ZM4AAQIECBSWgAJgYeXDbggQIECAAAECBAgQIFAQAn99c2VclGv5XbSmPNnP0Qd3jDtyLb892rdM5gwQIECAQOEJKAAWXk7siAABAgQIECBAgAABAg0msC3X5vtvf5oTt/x2Vmyt0fLbqFHEP33okPjKRwdEmZbfBsuRhQkQILC3AgqAeyvmfAIECBAgQIAAAQIECGRUYMX6zXHpfZPi2VnLkgg7t24Wt33miDhxQNdkzgABAgQIFLaAAmBh58fuCBAgQIAAAQIECBAgUC8CL89dERfdOyGWrN2crHdsv85x+3lHRLd2LZI5AwQIECBQ+AIKgIWfIzskQIAAAQIECBAgQIBAnQnk23z/9ZnX47bfzYoaHb+Rb/m96CP946KT+keTxrk3DgIECBAoSgEFwKJMm00TIECAAAECBAgQIEBg/wWWrdscl/xyQrzw+orkYl3bNo/bcy2/xx3aJZkzQIAAAQLFJaAAWFz5slsCBAgQIECAAAECBAjUisALry+Pi++dGMtzv/tX8zihf5e49dwjIl8EdBAgQIBA8QsoABZ/DkVAgAABAgQIECBAgACBPRbIt/ze/vvZcecfZkdV1Y4fy3f5XvqxAbkn/R4ajbX87ojjHQECBIpYQAGwiJNn6wQIECBAgAABAgQIENgbgSVry3Pf+psQL81dmXyse7vmccd5I+J9uQd+OAgQIEAgWwIKgNnKp2gIECBAgAABAgQIECCwU4FnZy2LS385MVZsqEjmP3RY17jlnOHRuY2W3wTHAAECBDIgoACYgSQKgQABAgQIECBAgAABArsSqNy6LW55elb84I9zklPyT/a94uOHxRdP6KflN9ExQIAAgewIKABmJ5ciIUCAAAECBAgQIECAwA4Ci1ZviovGTYi/vrVqh/H8mwPbt4g7x4yIIw/qlMwZIECAAIFsCSgAZiufoiFAgAABAgQIECBAgEC1wB9mLolL75sUqzduSUQ+Oqh73HzOsOjQqlkyZ4AAAQIEsiegAJi9nIqIAAECBAgQIECAAIESFtiSa/m96anX4j/+NDdRaNqkUVx5ysD4h+P7RqNGuUf+OggQIECgJAQUAEsizYIkQIAAAQIECBAgQKAUBBas2hhj75kQE+evTsLt1bFl3DVmZBzRu0MyZ4AAAQIEsi2gAJjt/IqOAAECBAgQIECAAIESEXhq2ttxxf2TYm15ZRLxKYMPiBvPHhbtWzZN5gwQIECAQPYFFACzn2MREiBAgAABAgQIECCQYYGKym1x/RMz4icvvJlE2axJ4/jn0wfF3x17kJbfRMcAAQIESkdAAbB0ci1SAgQIECBAgAABAgQyJjBvRa7ld9z4mLxgTRLZQZ1bxd25lt8hPdsncwYIECBAoLQEFABLK9+iJUCAAAECBAgQIEAgIwKPT1kcVz4wOdZtTlt+zxjWI64fNTTattDym5F0C4MAAQL7JaAAuF98PkyAAAECBAgQIECAAIH6FSjfsjW+89iM+K+X3koWblbWOL7xicEx+pjeWn4THQMECBAoXQEFwNLNvcgJECBAgAABAgQIECgygTeWb4gLfjE+pi9em+y8X5fWcff5I2NQj3bJnAECBAgQKG0BBcDSzr/oCRAgQIAAAQIECBAoEoGHJy6Max6aEhsqtiY7/vSInvHtTw2J1s39iZfgGCBAgACB8G8HNwEBAgQIECBAgAABAgQKWCDf8nvdI9Ni3Cvzk122aNo4vnnmkDjnqF5afhMdAwQIECDwjoAC4DsS/kmAAAECBAgQIECAAIECE3h96frqlt/XlqxLdta/W5vqlt8B3dsmcwYIECBAgMC7BRQA363hNQECBAgQIECAAAECBApE4MFXF8S//HpqbMp9A7Dmcc6RveK6Tw6OVs38SVfTxnsCBAgQSAX82yI1MUKAAAECBAgQIECAAIEGE9hYURnXPjwtHsgVAGserZo1qf6tv1Eje9Wc8p4AAQIECOxSQAFwlzQmCBAgQIAAAQIECBAgUL8Cs3Ktvvmn/M7Otf7WPAYe0DbuGjMyDs21/joIECBAgMDeCCgA7o2WcwkQIECAAAECBAgQIFAHAlVVVXHfX+fH138zLcq3bEtWGH1Mn/j6Jw6PFk2bJHMGCBAgQIDAewkoAL6XkHkCBAgQIECAAAECBAjUocD6zZXxL7+aEr+euChZpXWu5ff6s4bFmcMPTOYMECBAgACBPRVQANxTKecRIECAAAECBAgQIECglgWmL1obY+8ZH3OXb0iuPPjAdtUtv327tE7mDBAgQIAAgb0RUADcGy3nEiBAgAABAgQIECBAoBYE8i2/97wyL657ZHpUVKYtv3937EFxzWmDtPzWgrVLECBAgECEAqC7gAABAgQIECBAgAABAvUosK58S1z10JR4bPLiZNW2zcvixrOHxWlDeyRzBggQIECAwL4KKADuq5zPESBAgAABAgQIECBAYC8FpixYE2PHjY+3VmxMPjmsV/u4a/TI6NO5VTJngAABAgQI7I+AAuD+6PksAQIECBAgQIAAAQIE9kAg3/L7sxffjO8+PjMqtqYtv5//QN+46tSB0ays8R5czSkECBAgQGDvBBQA987L2QQIECBAgAABAgQIENgrgTWbtsSVD0yOJ6e9nXyuXYuyuPmc4XHy4AOSOQMECBAgQKC2BBQAa0vSdQgQIECAAAECBAgQIFBDYOL81dVP+V2walONmYgRfTrEnaNHRK+OWn4THAMECBAgUKsCCoC1yuliBAgQIECAAAECBAgQiMi3/P7o+TfihidmRuW2qoTkSyf2i8s/flg0baLlN8ExQIAAAQK1LqAAWOukLkiAAAECBAgQIECAQCkLrN5YEZffPyl+N2NpwtCxVdO45dzh8ZGB3ZM5AwQIECBAoK4EFADrStZ1CRAgQIAAAQIECBAoOYFX31oZF94zIRatKU9iP/rgjnFHruW3R/uWyZwBAgQIECBQlwIKgHWp69oECBAgQIAAAQIECJSEwLZcm+9/PDc3bnrqtdhao+W3UaOIf/rQIfGVjw6IMi2/JXE/CJIAAQKFJqAAWGgZsR8CBAgQIECAAAECBIpKYMX6zXFZruX3j68tS/bduXWzuO0zR8SJA7omcwYIECBAgEB9CSgA1pe0dQgQIECAAAECBAgQyJzAy3NXxEX3Toglazcnsb2/X6e4/bwR0b1di2TOAAECBAgQqE8BBcD61LYWAQIECBAgQIAAAQKZEMi3+f7rM6/Hbb+bFTU6fiPf8nvRR/rHRSf1jyaNc28cBAgQIECggQUUABs4AZYnQIAAAQIECBAgQKC4BJat2xxf+eXEeP715cnGu7ZtHrfnWn6PO7RLMmeAAAECBAg0lIACYEPJW5cAAQIECBAgQIAAgaITeDFX9Ls4V/zLFwFrHsfnin753/vLFwEdBAgQIECgkAQUAAspG/ZCgAABAgQIECBAgEBBCuRbfm///ey48w+zo6pqxy3mu3wv/diA3JN+D43GWn53xPGOAAECBApCQAGwINJgEwQIECBAgAABAgQIFKrAkrXlcXHuQR8vzV2ZbLF7u+ZxR+5BH+/r1zmZM0CAAAECBApFQAGwUDJhHwQIECBAgAABAgQIFJzAn2Ytq/69vxUbKpK9fXBA17j13OHRuY2W3wTHAAECBAgUlIACYEGlw2YIECBAgAABAgQIECgEgcqt26qf8Puvf5yTtPzmn+x7xccPiy+e0E/LbyEkyx4IECBA4D0FFADfk8gJBAgQIECAAAECBAiUksDiNZvionET4i9vrkrCPrB9i7hzzIg48qBOyZwBAgQIECBQqAIKgIWaGfsiQIAAAQIECBAgQKDeBZ6ZuTQuvW9irNq4JVn7o4O6xU1nD4+OrZslcwYIECBAgEAhCygAFnJ27I0AAQIECBAgQIAAgXoR2JJr+b35qdfi3/80N1mvaZNGceUpA+Mfju8bjRrlHvnrIECAAAECRSagAFhkCbNdAgQIECBAgAABAgRqV2DBqo1xYa7ld8K81cmFe3VsGXeNGRlH9O6QzBkgQIAAAQLFIqAAWCyZsk8CBAgQIECAAAECBGpd4LfT3o4rHpgcazalLb+nDADCaeAAAEAASURBVD4gbjx7WLRv2bTW13VBAgQIECBQnwIKgPWpbS0CBAgQIECAAAECBApCoKJyW1z/xIz4yQtvJvtp1qRx/PPpg+Lvjj1Iy2+iY4AAAQIEilFAAbAYs2bPBAgQIECAAAECBAjss8C8FRtj7LjxMXnBmuQaB3VuFXeNHhlDe7VP5gwQIECAAIFiFVAALNbM2TcBAgQIECBAgAABAnst8MSUxfHVXMvvus2VyWdPH9Yjbhg1NNq20PKb4BggQIAAgaIWUAAs6vTZPAECBAgQIECAAAECeyJQvmVrfPfxGfHzP7+VnN6srHF8/ROHx5hj+mj5TXQMECBAgEAWBBQAs5BFMRAgQIAAAQIECBAgsEuBN5ZviLH3jI9pi9Ym5/Tr0rr6Kb+HH9gumTNAgAABAgSyIqAAmJVMioMAAQIECBAgQIAAgUTgN5MWxTUPTYn1O2n5/fSInvHtTw2J1s39WZTAGSBAgACBTAn4N12m0ikYAgQIECBAgAABAgTyAvmW3+semR7jXpmXgLRo2ji+eeaQOOeoXlp+Ex0DBAgQIJBFAQXALGZVTAQIECBAgAABAgRKWOD1peurW35nvr0uUTi0W5v41/NHxoDubZM5AwQIECBAIKsCCoBZzay4CBAgQIAAAQIECJSgwEPjF8S//HpqbKzYmkR/zpG94rpPDo5WzfwZlOAYIECAAIFMC/g3X6bTKzgCBAgQIECAAAECpSGwsaIyvv7wtLj/1QVJwC2bNonvfHpIjBrZK5kzQIAAAQIESkFAAbAUsixGAgQIECBAgAABAhkWmLVkXVzwi/ExO9f6W/MYeEDb6qf85lt/HQQIECBAoFQFFABLNfPiJkCAAAECBAgQIFDkAlVVVXH/XxfEtb+Zmnvox7YkmtHH9Imvf+LwaJH7BqCDAAECBAiUsoACYClnX+wECBAgQIAAAQIEilRgw+bK6t/6+9WEhUkErZs1ievPGhZnDj8wmTNAgAABAgRKUUABsBSzLmYCBAgQIECAAAECRSwwY/Ha6pbfucs3JFEc3qNd3J17ym/fLq2TOQMECBAgQKBUBRQASzXz4iZAgAABAgQIECBQZAL5lt97XpkX1z0yPSoq05bfvzv2oLjmtEFafossr7ZLgAABAnUvoABY98YFv8Ly5cvjxz/+cTz88MMxZ86cWLVqVXTu3Dl69+4dJ554YowaNSqOPfbYgo/DBgkQIECAAAECBLIrsK58S1z90JR4dPLiJMi2zcvixrOHxWlDeyRzBggQIECAAIEIBcASvwvuv//++PKXvxwrVqzYQWLx4sWR/88rr7wSs2fPjl//+tc7zHtDgAABAgQIECBAoL4Epi5cE2PvGR9vrtiYLDmsV/u4a/TI6NO5VTJngAABAgQIEPgfAQXAEr4Tfv7zn8fnPve52LZtW3Tr1q26EHj88cdHp06d4u23367+NuAjjzwSTZs2LWEloRMgQIAAAQIECDSUQL7l9+d/fiu+89iMqNiatvx+/gN948pTD4vmZZ7y21A5si4BAgQIFIeAAmBx5KnWdzljxoz44he/WF38O+GEEyJf6Gvfvn2yzoUXXhgVFRXJuAECBAgQIECAAAECdSmwZtOWuOrByfHE1LeTZdq1KIubzxkeJw8+IJkzQIAAAQIECKQCCoCpSUmM5At7mzdvji5dusRDDz200+LfOxDNmjV756V/EiBAgAABAgQIEKhzgYnzV1e3/C5YtSlZa0SfDnHn6BHRq6OW3wTHAAECBAgQ2IWAAuAuYLI8PHPmzPj9739fHeLYsWOri4BZjldsBAgQIECAAAECxSGQb/n90fNvxI1PzowtW6uSTX/pxH5x+ccPi6ZNGidzBggQIECAAIFdCygA7tomszP5B3+8c5xzzjnvvKx++m/+icD53wDMPwXYQYAAAQIECBAgQKC+BFZvrIjL758cv5uxJFmyY6umccu5w+MjA7sncwYIECBAgACB9xbwP529t1HmznjppZeqY8r/5t+gQYPiF7/4RQwfPry68DdgwIDqbwT269cvrrvuuli/fn3m4hcQAQIECBAgQIBAYQm8+taqOO3253Za/Dv64I7x+MUnKP4VVsrshgABAgSKTMA3AIssYbWx3enTp1df5uCDD478bwHefffdyWXfeOON+MY3vhEPPPBAPPXUU3HggQcm5+xuYMGCBbubjsWLF+923iQBAgQIECBAgED2BbZtq4r/fG5u3PTUa1GZe13z+KcPHRKXfmxAlGn5rUnjPQECBAgQ2CsBBcC94srGyStXrqwOJP9bgJMmTYoOHTrEDTfcEKNGjYp27drFlClT4tprr40nnngipk6dGvk24eeeey4aN97zL4z27t07G1iiIECAAAECBAgQqBOBlRsq4tL7JsYfX1uWXL9z62Zx62eOiA8O6JrMGSBAgAABAgT2XmDPKzp7f22fKFCBDRs2VO8s/xTgJk2aVBf6vvSlL0XXrl2jefPmcdRRR8Wjjz4ap556avV5L774YvWTggs0HNsiQIAAAQIECBAoMoFX3lhZ3fK7s+Lf+/t1qm75VfwrsqTaLgECBAgUtIBvABZ0eupmcy1atIh3ioD5b/e9//3vTxbKf9vvpptuqi4O5ifHjRsXZ599dnLergbmz5+/q6nq8XwL8DHHHLPbc0wSIECAAAECBAhkSyDf8vuvf3w9bn16VtTs+G3UKOLCj/SPi0/qH00a5944CBAgQIAAgVoTUACsNcriuVDbtm23FwDf+ZbfznY/ePDg6NmzZyxcuDD+8pe/7OyUXY716tVrl3MmCBAgQIAAAQIESk9g2brN1S2/z81engTftW3zuD3X8nvcoV2SOQMECBAgQIDA/gtoAd5/w6K7wrt/n++9CnXvnLt06dKii9OGCRAgQIAAAQIECkPgxdeXx2l3PBc7K/4dnyv6PX7RCYp/hZEquyBAgACBjAooAGY0sbsLK//NvneOrVu3vvNyp/98Z76szJdFdwpkkAABAgQIECBAYJcCW3N9vrfl2n3P/9HLkf8G4LuPfJfv5ScPiJ99/pjIfwPQQYAAAQIECNSdgAJg3dkW7JVPPPHE7XubM2fO9tc7ezF37tzq4XwrsIMAAQIECBAgQIDAngosXVsef/PDl+P238+OqqodP9W9XfMY94/vj7G53/zze3872nhHgAABAgTqQkABsC5UC/yaZ555ZjRt2rR6lw899NAud/vss8/GihUrqudPOOGEXZ5nggABAgQIECBAgMC7BZ6bvay65ffPc//n/y/57rn8033zLb/v69f53cNeEyBAgAABAnUooABYh7iFeunOnTvHF77whertPf3003HvvfcmW123bl1ccskl28e/9KUvbX/tBQECBAgQIECAAIGdCVRu3RY3P/Va/N2PX4nl6yt2OCX/Tb8rTxkYP/ns0dG5jZbfHXC8IUCAAAECdSzgh93qGLhQL3/dddfFY489FvPmzYu//du/jRdeeCFGjRoV7dq1iylTpsSNN94YM2fOrN7+l7/85Tj66KMLNRT7IkCAAAECBAgQKACBxWs2xcXjJsYrb65MdnNg+xZx55gRceRBnZI5AwQIECBAgEDdCzSqyh11v4wVClFgxowZkW8Hfv3113e5vc9//vPxb//2b9tbhnd54l5OLFiwIN55wvD8+fPjvZ5GvJeXdzoBAgQIECBAgEA9Cjwzc2lcet/EWLVxS7LqRwd1i5vOHh4dWzdL5gwQIECAQN0L+Pu77o2LYQXfACyGLNXRHgcNGhQTJ06MH/zgB/HAAw/E7NmzY/369dGtW7f4wAc+EPm23w9/+MN1tLrLEiBAgAABAgQIFLvAlv9t+f33P/3Pg+PeHU9ZruX3qlMHxj8c3zcaNco98tdBgAABAgQINJiAbwA2GH1pL+x/gSjt/IueAAECBAgQKH6Bhas3xYX3jI/x81YnwfTs0DLuyrX8jujTMZkzQIAAAQL1K+Dv7/r1LtTVfAOwUDNjXwQIECBAgAABAgQKVODp6Uvi8vsnxZpNacvvxwd3j++dNTzat2paoLu3LQIECBAgUHoCCoCll3MREyBAgAABAgQIENgngYrKbXHjkzPjR8+/kXy+WZPGcc1pA+PvjztYy2+iY4AAAQIECDSsgAJgw/pbnQABAgQIECBAgEBRCMxfuTHG5lp+Jy1Yk+y3T6dWcfeYkTG0V/tkzgABAgQIECDQ8AIKgA2fAzsgQIAAAQIECBAgUNACT05dHFc8MDnWlVcm+zx9WI+4ftTQaNdCy2+CY4AAAQIECBSIgAJggSTCNggQIECAAAECBAgUmkD5lq1x/eMz4md/fivZWrOyxnHtGYfH+e/ro+U30TFAgAABAgQKS0ABsLDyYTcECBAgQIAAAQIECkLgzeUb4oJcy++0RWuT/fTr0jr3lN+RcfiB7ZI5AwQIECBAgEDhCSgAFl5O7IgAAQIECBAgQIBAgwo8MmlRXP3QlFi/OW35/dQRB8a3Pz002jT3p0SDJsniBAgQIEBgLwT8W3svsJxKgAABAgQIECBAIMsC+Zbfbz46Pe55eV4SZoumjeO6MwfHuUf11vKb6BggQIAAAQKFLaAAWNj5sTsCBAgQIECAAAEC9SIwZ9n6uOAX42Pm2+uS9Q7t1qb6Kb+HHdA2mTNAgAABAgQIFL6AAmDh58gOCRAgQIAAAQIECNSpwK8mLIh//tXU2FixNVnn7CN7xTc/OThaNfOnQ4JjgAABAgQIFImAf4sXSaJskwABAgQIECBAgEBtC2zKFfy+/pupcd9fFySXbtm0SXz7U0PirFwB0EGAAAECBAgUt4ACYHHnz+4JECBAgAABAgQI7JPA7CXr4p9yLb+zl65PPn9Y97Zx9/kj4tBuWn4THAMECBAgQKAIBRQAizBptkyAAAECBAgQIEBgXwWqqqri/lcXxLUPT43yLduSy4w+pnd8/RODo0XuG4AOAgQIECBAIBsCCoDZyKMoCBAgQIAAAQIECLynwIbNlfG1X0+NhyYsTM5t3axJfHfU0PjkET2TOQMECBAgQIBAcQsoABZ3/uyeAAECBAgQIECAwB4JzFi8Ni64Z3zMXbYhOX9Qj3a5p/yOiH5d2yRzBggQIECAAIHiF1AALP4cioAAAQIECBAgQIDALgXyLb/jXpkf1z0yLTZXpi2/f/v+g+KfTx+k5XeXgiYIECBAgEDxCygAFn8ORUCAAAECBAgQIEBgpwLryrfENb+aGo9MWpTMt21eFjecNSxOH9YjmTNAgAABAgQIZEtAATBb+RQNAQIECBAgQIAAgWqBqQvXxNhcy++bKzYmIkN7to+7ci2/B3VuncwZIECAAAECBLInoACYvZyKiAABAgQIECBAoIQF8i2///XSW/HtR2dExda05fezxx0cV582MJqXecpvCd8mQidAgACBEhNQACyxhAuXAAECBAgQIEAguwJrNm2Jqx+aHI9PeTsJsl2LsrjpnOHx8cEHJHMGCBAgQIAAgWwLKABmO7+iI0CAAAECBAgQKBGBSfNXx9hx42P+yk1JxEf07hB3jh4RvTu1SuYMECBAgAABAtkXUADMfo5FSIAAAQIECBAgkGGBfMvvj194M254YkZs2VqVRPqPJ/SNKz4+MJqVNU7mDBAgQIAAAQKlIaAAWBp5FiUBAgQIECBAgEAGBVZvrIgrHpgcT09fkkTXoVXTuCXX8nvSoO7JnAECBAgQIECgtAQUAEsr36IlQIAAAQIECBDIiMD4eaviwnsmxMLVacvvUQd1jDtyLb8HdmiZkWiFQYAAAQIECOyPgALg/uj5LAECBAgQIECAAIF6Fti2rSr+87m5cdNTr0Vl7nXN458+dEh85WMDomkTLb81bbwnQIAAAQKlKqAAWKqZFzcBAgQIECBAgEDRCazcUBGX3TcxnnltWbL3Tq2bxW2fOSI+OKBrMmeAAAECBAgQKG0BBcDSzr/oCRAgQIAAAQIEikTglTdWxkXjJsTba8uTHb+vb6fqlt/u7VokcwYIECBAgAABAgqA7gECBAgQIECAAAECBSyQb/n9wbNz4tanZ8XWGi2/jRpFXPjhQ+Oik/pHmZbfAs6irREgQIAAgYYVUABsWH+rEyBAgAABAgQIENilwPL1m+Mrv5wYz81enpzTpU3z+H6u5ff4/l2SOQMECBAgQIAAgXcLKAC+W8NrAgQIECBAgAABAgUi8Oc5K+LieyfE0nWbkx194NDO1b/3162tlt8ExwABAgQIECCQCCgAJiQGCBAgQIAAAQIECDScQL7N984/zI47fj87anT8RuNcy+8lHx0QF+Tafpvk3zgIECBAgAABAnsgoAC4B0hOIUCAAAECBAgQIFAfAkvXlccl906MF3Pf/qt5dGvbvPpBH+/v17nmlPcECBAgQIAAgd0KKADulsckAQIECBAgQIAAgfoReD73O3+X/HJCLF9fkSx44oCuceu5wyP/u38OAgQIECBAgMDeCigA7q2Y8wkQIECAAAECBAjUokDl1m3x/d/Njrv/+HpUVe144Xyb72UnD4j/d+Ih0VjL74443hEgQIAAAQJ7LKAAuMdUTiRAgAABAgQIECBQuwJvrymPi3IP+njljZXJhXu0bxF3jh4RRx3cKZkzQIAAAQIECBDYGwEFwL3Rci4BAgQIECBAgACBWhJ45rWlcdl9k2LlhrTl96SB3eLmc4ZHx9bNamk1lyFAgAABAgRKWUABsJSzL3YCBAgQIECAAIF6F9iSa/m9+bevxb8/OzdZuyzX5nvlKQPjCyf0jUaNPOU3ATJAgAABAgQI7JOAAuA+sfkQAQIECBAgQIAAgb0XWLh6U1w0bkK8+taq5MM9O7SMO8eMiJF9OiZzBggQIECAAAEC+yOgALg/ej5LgAABAgQIECBAYA8Ffjd9SVx2/6RYs2lL8omTD+8eN509PNq3aprMGSBAgAABAgQI7K+AAuD+Cvo8AQIECBAgQIAAgd0IVFRui+89OTN++PwbyVlNmzSKa04bFJ897mAtv4mOAQIECBAgQKC2BBQAa0vSdQgQIECAAAECBAjUEJi/cmOMzbX8Tpq/usZMRJ9OreKuXMvvsF4dkjkDBAgQIECAAIHaFFAArE1N1yJAgAABAgQIECDwvwJPTl0cVzwwOdaVVyYmp/1/9u4D3M6yShT/Sk5JL6T3QCC9B0VFEES6IFKCJM44c4freEcCCAIiiogwFGkCYfDey4x6R3pREBRREQQUW3ojnfSE9HKSnJLz3+f4F+W8AVJO2eX3PY9P9l5r7+9b7+89TzhZ7rW/kT3ilnNHRfuWRn4THAECBAgQIECg3gU0AOud1AkJECBAgAABAgQKWWB3ZVXc9Nzc+MHv3kwYSoubx7VnDIt/+FA/I7+JjgABAgQIECDQUAIagA0l67wECBAgQIAAAQIFJ7B0/Y7MyO+UmLVya7L2w7q0qR35Hd6rQ5ITIECAAAECBAg0pIAGYEPqOjcBAgQIECBAgEDBCDw7Y1Vc/eTM2L47Hfn91OhecdM5I6NtC79+F8wPhIUSIECAAIEsEvAbSBZthlIIECBAgAABAgRyT2BXRVV869k58dDvlyXFt8iM/F7/qeHxmQ/2NfKb6AgQIECAAAECjSWgAdhY0q5DgAABAgQIECCQdwKL3toeFz04Jeat2Zas7fCubeK+z46LIT3aJzkBAgQIECBAgEBjCmgANqa2axEgQIAAAQIECOSNwI+nroxrfjQzysqrkjWdM6533HDWiGhj5DexESBAgAABAgQaX0ADsPHNXZEAAQIECBAgQCCHBXZmGn7ffGZ2PPqn5ckqWpUUxQ2fHhHnHdknyQkQIECAAAECBJpKQAOwqeRdlwABAgQIECBAIOcEFqzdFhc9NCXmr92e1D6oe9u4b+K4GNi9XZITIECAAAECBAg0pYAGYFPquzYBAgQIECBAgEDOCDye+cTfN56eHTszN/2oe1yQucnHdWcOj1alRXVTnhMgQIAAAQIEmlxAA7DJt0ABBAgQIECAAAEC2SywY3dlXPv0rHhqysqkzDaZht9N54yMs8b0TnICBAgQIECAAIFsEdAAzJadUAcBAgQIECBAgEDWCcxbs7X2Lr+L3tqR1Da0Z/vMyO/YGNC1bZITIECAAAECBAhkk4AGYDbthloIECBAgAABAgSyQqC6ujoe+ePy2pt97K7ck9T02Q/1i2vPGBYtMzf9cBAgQIAAAQIEsl1AAzDbd0h9BAgQIECAAAECjSqwPTPye81TM+OZ6auS67ZtURy3nDsyzhjVK8kJECBAgAABAgSyVUADMFt3Rl0ECBAgQIAAAQKNLjBr5ZaYlLnL79INZcm1R/SuGfkdF/07t0lyAgQIECBAgACBbBbQAMzm3VEbAQIECBAgQIBAowjUjPz+8PU344Zn50Z5VTry+89HHxpfPX1ItCg28tsoG+IiBAgQIECAQL0KaADWK6eTESBAgAABAgQI5JrA1l0VcfWTM+KnM9ckpbdrWRy3nTcqTh3RM8kJECBAgAABAgRyRUADMFd2Sp0ECBAgQIAAAQL1LjBjxea4KDPyu3zjzuTco/t2jMkTxkbfTq2TnAABAgQIECBAIJcENABzabfUSoAAAQIECBAgUC8CNSO/33ttadz8s7lRUVWdnPN/HnNYXHXqkCgtbp7kBAgQIECAAAECuSagAZhrO6ZeAgQIECBAgACBgxLYUlYRVz4xPV6YszY5T4dWJXHH+NFx4rDuSU6AAAECBAgQIJCrAhqAubpz6iZAgAABAgQIENhvgSnLNsXFD02NlZvTkd8j+x8S92RGfnt3bLXf5/UGAgQIECBAgEA2C2gAZvPuqI0AAQIECBAgQKBeBPbsqY4HXl0c337+jajMPK57/K/jDo8vnzwoSoqM/Na18ZwAAQIECBDIfQENwNzfQysgQIAAAQIECBB4D4FNO8rjy49PjxfnrUte1alNadx5/ug4fnC3JCdAgAABAgQIEMgXAQ3AfNlJ6yBAgAABAgQIEEgE/rh0Y1zy8NRYvWVXkjvq0E61I789OrRMcgIECBAgQIAAgXwS0ADMp920FgIECBAgQIAAgVqBmpHf+19eFHf+Yn5U1Rn5bdYsYtLHj4hLPzEwio38+okhQIAAAQIECkBAA7AANtkSCRAgQIAAAQKFJLB+++647NFp8cqC9cmyu7Qtje98ZmwcM7BLkhMgQIAAAQIECOSrgAZgvu6sdREgQIAAAQIEClDgd4s2xKWPTI1123Ynqz/68M6Z5t+Y6NbeyG+CI0CAAAECBAjktYAGYF5vr8URIECAAAECBApDoGbMd/KLC+PuX82POhO/0Twz8nvpJwbFpBOOiKKaJw4CBAgQIECAQIEJaAAW2IZbLgECBAgQIEAg3wTWbdsVX3pkWvw28+m/uke3di3i7gvGxkcyn/5zECBAgAABAgQKVUADsFB33roJECBAgAABAnkg8Grme/6+lPm+v5rv/at7HJv5nr+7MiO/Xdq2qJvynAABAgQIECBQUAIagAW13RZLgAABAgQIEMgPgcqqPZlx3wUx+dcLo7r6nWuqGfO9/KRB8W/HHR7Njfy+E8czAgQIECBAoCAFNAALctstmgABAgQIECCQuwJrtuyKSzI3+vjDko3JInpkbvBx78Sx8cFDOyU5AQIECBAgQIBAoQpoABbqzls3AQIECBAgQCAHBV56Y11c/tj02LijPKn+44O7xh3nj4lObUqTnAABAgQIECBAoJAFNAALefetnQABAgQIECCQIwIVmZHfO16YH999eVFScXFmzPeqUwfH/zxmgJHfREeAAAECBAgQIBChAeingAABAgQIECBAIKsFVm3eGRc/PDX+/OampM7eHVvVjvyO63dIkhMgQIAAAQIECBD4i4AGoJ8EAgQIECBAgACBrBX45Zy1ccUT02NzWUVS40nDusdt542Kjq2N/CY4AgQIECBAgACBvxPQAPw7DA8JECBAgAABAgSyQ6C8ck98+/l58cCrS5KCSoqaxVdPGxr/46OHRrNmzZK8AAECBAgQIECAwDsFNADf6eEZAQIECBAgQIBAEwss31gWkzIjv9OXb04q6dupVUyeMC5G9+2Y5AQIECBAgAABAgT2LqABuHcXUQIECBAgQIAAgSYQeH7WmrgqM/K7dVdlcvXTRvSIW84dFR1alSQ5AQIECBAgQIAAgXcX0AB8dxsZAgQIECBAgACBRhLYXVkVN/90Xnz/t0uTK5YWNY9rzxga//Dh/kZ+Ex0BAgQIECBAgMD7C2gAvr+RVxAgQIAAAQIECDSgwJsbdsSkh6bGzJVbkqsc2rl1TJ44Lkb07pDkBAgQIECAAAECBPZNQANw35y8igABAgQIECBAoAEEnp2xKq5+cmZs352O/J45ulfcdPaIaNfSyG8D0DslAQIECBAgUEACGoAFtNmWSoAAAQIECBDIFoFdFVVxw7Nz4sHfL0tKalHcPL75qeFxwQf7GvlNdAQIECBAgAABAvsvoAG4/2beQYAAAQIECBAgcBACi9/aHhdlRn7nrt6anGVA1zZxX2bkd2jP9klOgAABAgQIECBA4MAENAAPzM27CBAgQIAAAQIEDkDgx1NXxjU/mhll5VXJu88Z2ztu+PSIaNPCr6gJjgABAgQIECBA4CAE/HZ1EHjeSoAAAQIECBAgsG8COzMNv28+Mzse/dPy5A0tS5rHDWeNiPEf6JvkBAgQIECAAAECBA5eQAPw4A2dgQABAgQIECBA4D0EFqzdlhn5nRLz125PXjWoe9vakd+B3dslOQECBAgQIECAAIH6EdAArB9HZyFAgAABAgQIENiLwOOZT/x94+nZsTNz04+6x/kf6BPXf2pEtCotqpvynAABAgQIECBAoB4FNADrEdOpCBAgQIAAAQIE/iKwY3dlXPv0rHhqysqEpHWm4ffvZ4+Is8f2SXICBAgQIECAAAEC9S+gAVj/ps5IgAABAgQIEChogXlrtsZFD06JRW/tSByG9GgX9312XBzetW2SEyBAgAABAgQIEGgYAQ3AhnF1VgIECBAgQIBAwQlUV1fHo39cHtdlbvaxu3JPsv6JH+oX3zhjWLQsMfKb4AgQIECAAAECBBpQQAOwAXGdmgABAgQIECBQKALbMyO/1zw1M56ZvipZctsWxXHzOSPjzNG9kpwAAQIECBAgQIBAwwtoADa8sSsQIECAAAECBPJaYPaqLTHpoamxZH068juid/uYPGFcHNqlTV4bWBwBAgQIECBAIJsFNACzeXfURoAAAQIECBDIYoGakd8fvv5m3PDc3Cjfy8jvPx99aHz19CHRotjIbxZvo9IIECBAgACBAhDQACyATbZEAgQIECBAgEB9C2zdVRFXPzkjfjpzTXLqdi2L47bzRsWpI3omOQECBAgQIECAAIHGF9AAbHxzVyRAgAABAgQI5LTAjBWba0d+l20sS9Yxuk+HmDxxXPTt1DrJCRAgQIAAAQIECDSNgAZg07i7KgECBAgQIEAg5wRqRn6/99rSuPlnc6Oiqjqp/8JjDouvnDokSoubJzkBAgQIECBAgACBphPQAGw6e1cmQIAAAQIECOSMwJayirjyienxwpy1Sc0dWpXE7eNHx0nDuic5AQIECBAgQIAAgaYX0ABs+j1QAQECBAgQIEAgqwWmLttUO/K7cvPOpM5x/TrGvZmR394dWyU5AQIECBAgQIAAgewQ0ADMjn1QBQECBAgQIEAg6wT27KmO/3x1Sdz6/LyozDyue3zhuAFxxcmDo6TIyG9dG88JECBAgAABAtkkoAGYTbuhFgIECBAgQIBAlghs2lEeX358erw4b11S0SGtS+LO88fEx4d0S3ICBAgQIECAAAEC2SegAZh9e6IiAgQIECBAgECTCvxp6ca4+OGpsXrLrqSOow7tFHdPGBM9Oxj5TXAECBAgQIAAAQJZKqABmKUboywCBAgQIECAQGML1Iz83v/yorjzF/Ojqs7Ib7NmERcdf0R86cSBUWzkt7G3xvUIECBAgAABAgcloAF4UHzeTIAAAQIECBDID4H123fH5Y9Nj9/MfytZUJe2pXHXZ8bEsQO7JjkBAgQIECBAgACB7BfQAMz+PVIhAQIECBAgQKBBBV5fvCEuyYz8rtu2O7nORwZ0jrsvGBPd2rdMcgIECBAgQIAAAQK5IaABmBv7pEoCBAgQIECAQL0L1Iz5Tn5xYdz9q/lRZ+I3akZ+L/3EwLj4hIFR1DzzxEGAAAECBAgQIJCzAhqAObt1CidAgAABAgQIHLjAum274rJHp8VrCzckJ+narkXtp/6OPrxLkhMgQIAAAQIECBDIPQENwNzbMxUTIECAAAECBA5K4LWF6+PSR6ZFzff+1T2OHdil9vv+urRtUTflOQECBAgQIECAQI4KaADm6MYpmwABAgQIECCwvwKVVXvinl8tiHt/vTCqq9/57pop3y+fPDj+7bjDo7mR33fieEaAAAECBAgQyHEBDcAc30DlEyBAgAABAgT2RWDNll1xySNT4w9LNiYv75G5wcc9E8bGUYd1SnICBAgQIECAAAECuS+gAZj7e2gFBAgQIECAAIH3FHjpjXVx+WPTY+OO8uR1xw/uGneePyY6tSlNcgIECBAgQIAAAQL5IaABmB/7aBUECBAgQIAAgUSgIjPye+cv5sf9Ly1KcjV39r3qlMHx+WMHGPlNdAQIECBAgAABAvkloAGYX/tpNQQIECBAgACBWoFVm3fGxQ9PjT+/uSkR6d2xVe3I75H9D0lyAgQIECBAgAABAvknoAGYf3tqRQQIECBAgECBC/xq7tr48uPTY3NZRSJx4tDucfv4UdGxtZHfBEeAAAECBAgQIJCnAhqAebqxlkWAAAECBAgUnkB55Z749vPz4oFXlySLLylqFlefNjT+5aOHRrNmmVv+OggQIECAAAECBApGQAOwYLbaQgkQIECAAIF8Fli+sax25Hfa8s3JMvt2ahWTJ4yL0X07JjkBAgQIECBAgACB/BfQAMz/PbZCAgQIECBAIM8Fnp+1Jq56Ynps3VWZrPS0ET3ilnNHRYdWJUlOgAABAgQIECBAoDAENAALY5+tkgABAgQIEMhDgd2VVXHzT+fF93+7NFldaVHz+PoZQ+MfP9zfyG+iI0CAAAECBAgQKCwBDcDC2m+rJUCAAAECBPJE4M0NO2LSQ1Nj5sotyYr6d24d900cFyN6d0hyAgQIECBAgAABAoUnoAFYeHtuxQQIECBAgECOCzw3Y3Vc/eSM2LY7Hfk9Y1TPuPmckdGupZHfHN9m5RMgQIAAAQIE6k1AA7DeKJ2IAAECBAgQINCwArsqquLG5+bED19fllyotLh5fPPM4THhqL5GfhMdAQIECBAgQIBAYQtoABb2/ls9AQIECBAgkCMCi9/aHhdlRn7nrt6aVDyga5vakd+hPdsnOQECBAgQIECAAAECGoB+BggQIECAAAECWS7w9LSVcc1TM2NHeVVS6dlje8eNnx4RbVr4tS7BESBAgAABAgQIEKgV8JuiHwQCBAgQIECAQJYK7Mw0/K7/yex45I/LkwpbljSPb501IsYf2cfIb6IjQIAAAQIECBAg8PcCGoB/r+ExAQIECBAgQCBLBBau2xYXPTg13li7LaloYLe2cd9nx8Wg7u2SnAABAgQIECBAgACBugIagHVFPCdAgAABAgQINLHAE39eEdf+eFbszNz0o+5R84m/688aHq1L/RpX18ZzAgQIECBAgACBvQs033tYtFAFrrrqqtoxombNmtX++dJLLxUqhXUTIECAAIFGFygrr4zLH5sWVzw+PWn+tS4tijvPHx23jR+t+dfoO+OCBAgQIECAAIHcFvB/Hef2/tVr9dOnT4+77rqrXs/pZAQIECBAgMC+CcxbszUz8jslFr21I3nDkB7tYvLEcXFEZvTXQYAAAQIECBAgQGB/BTQA91csT1+/Z8+e+PznPx+VlZXRrVu3WLduXZ6u1LIIECBAgEB2CVRXV8ejmZt8XPfM7NhduScpbuKH+sU3zhgWLUuKkpwAAQIECBAgQIAAgX0RMAK8L0oF8Jp77rkn/vjHP8aQIUPiwgsvLIAVWyIBAgQIEGh6ge27K+NLj06Lq5+amTT/2rYojnsmjI2bzh6p+df0W6UCAgQIECBAgEBOC2gA5vT21U/xy5cvj2uvvbb2ZPfff3+UlpbWz4mdhQABAgQIEHhXgdmrtsSZ974aT09blbxmeK/28ZOLj4lPje6V5AQIECBAgAABAgQI7K+ABuD+iuXh67/4xS/G9u3b45/+6Z/i+OOPz8MVWhIBAgQIEMgegZqR3/9+/c04+z9+G0vWp9/397mP9I8n/+3oOKxLm+wpWiUECBAgQIAAAQI5LeA7AHN6+w6++MceeyyeffbZ6NSpU9x2220Hf0JnIECAAAECBN5VYOuuivjqkzPjuZmrk9e0a1kc3z53VJw2smeSEyBAgAABAgQIECBwMAIagAejl+Pv3bx5c1x66aW1q7j11luja9euOb4i5RMgQIAAgewVmLFic0x6aGos21iWFDm6T4e4d8K46Ne5dZITIECAAAECBAgQIHCwAhqAByuYw++/6qqrYs2aNXH00UfX+40/VqxY8Z4yq1enn3x4zzdIEiBAgACBHBWoGfn9/m+Xxk0/nRsVVdXJKv7lo4fF1acNidJi38yS4AgQIECAAAECBAjUi4AGYL0w5t5JXn311XjggQeiuLg4vvvd70azZs3qdRF9+/at1/M5GQECBAgQyEWBLWUVceUT0+OFOWuT8ju0Konbx4+Ok4Z1T3ICBAgQIECAAAECBOpTQAOwPjVz5Fzl5eXxr//6r1HziYTLLrssRo4cmSOVK5MAAQIECOSOwNRlm2pHfldu3pkUPbZfx8zI79joc4iR3wRHgAABAgQIECBAoN4FNADrnTT7T3jTTTfF3Llzo1+/fnHdddc1SMHLly9/z/PWjAAfddRR7/kaSQIECBAgkIsCNf8H2wOvLIlbn58XlXvSkd8vfGxAXHHK4CgpMvKbi/urZgIECBAgQIBALgpoAObirh1EzfPmzYubb7659gz33ntvtGnT5iDO9u5v7dOnz7snZQgQIECAQJ4KbNpRHlc8Pj1+NW9dssJDWpfEneePiY8P6ZbkBAgQIECAAAECBAg0pIAGYEPqZuG577rrrqgZAR4wYECUlZXFI488klQ5a9ast2Mvvvhi7Y1CagJnnnlmgzUM376gBwQIECBAIEcF/rR0Y1z88NRYvWVXsoIPHnpI3JMZ+e3ZoVWSEyBAgAABAgQIECDQ0AIagA0tnGXn3717d21FixcvjgkTJrxvdTfccMPbr1myZIkG4NsaHhAgQIAAgb8I7MmM+X73N4vijhfmR1Wdkd+ae2x98fjD47ITB0WxkV8/MgQIECBAgAABAk0koAHYRPAuS4AAAQIECOS+wIbtu+Pyx6bHy/PfShbTuU1p3PWZMfGxQV2TnAABAgQIECBAgACBxhTw7dONqZ0F1/r+979fe/ffmi8of7f//f2NQX7961+//bpDDz00C1agBAIECBAgkB0Cry/eEKff88pem38fHtApfnbpsZp/2bFVqiBAgAABAgQIFLyATwAW/I8AAAIECBAgQGB/BGrGfO/79cL4zi/nR52J36gZ+b3khIFxyScGRlHzzBMHAQIECBAgQIAAgSwQ0ADMgk1QAgECBAgQIJAbAuu27YrLHp0Wry3ckBTctV2LuDsz8nv0EV2SnAABAgQIECBAgACBphTQAGxKfdcmQIAAAQIEckbgtYXr49JHpsX6zPf+1T2OHdgl7jx/TNQ0AR0ECBAgQIAAAQIEsk1AAzDbdkQ9BAgQIECAQFYJ1Iz83p0Z9703M/ab+Qrddxw1U76XnzQoc6ffI6K5kd932HhCgAABAgQIECCQPQLNMjeCqPOrbPYUp5L8FVixYkX07du3doHLly+PPn365O9irYwAAQIEclZg7dZdccnDU+P3SzYma+jevkXcc8HY+NCAzklOgAABAgQIECCQLQL+/Z0tO9G0dfgEYNP6uzoBAgQIECCQpQIvz3+r9vv+Nu4oTyo8fnDXuGP86Ojc1shvgiNAgAABAgQIECCQdQIagFm3JQoiQIAAAQIEmlKgsmpP3PGL+XH/S4uSMmru7HvlKYPjX48dYOQ30REgQIAAAQIECBDIVgENwGzdGXURIECAAAECjS6wavPO2pHfP725Kbl2rw4t496JY+PI/p2SnAABAgQIECBAgACBbBbQAMzm3VEbAQIECBAg0GgCL85bG5c/Nj02l1Uk1zxxaPe4ffyo6Ni6NMkJECBAgAABAgQIEMh2AQ3AbN8h9REgQIAAAQINKlCRGfn99vPz4v++siS5TklRs/jKqUPiwmMOi2bNMrf8dRAgQIAAAQIECBDIQQENwBzcNCUTIECAAAEC9SOwfGNZXJy5y++05ZuTE/Y5pFVMnjguxvTtmOQECBAgQIAAAQIECOSSgAZgLu2WWgkQIECAAIF6E/j57DVx5ePTY+uuyuScpw7vEbeeNyo6tCpJcgIECBAgQIAAAQIEck1AAzDXdky9BAgQIECAwEEJ7K6silt+Ni++99rS5DylRc3ja58cGp/7SH8jv4mOAAECBAgQIECAQK4KaADm6s6pmwABAgQIENhvgWUbyuKih6bEzJVbkvf279w67suM/I7o3SHJCRAgQIAAAQIECBDIZQENwFzePbUTIECAAAEC+yzw05mr4ytPzIhtu9OR3zNG9YybzxkZ7Voa+d1nUC8kQIAAAQIECBDIGQENwJzZKoUSIECAAAECByKwq6IqbnxuTvzw9WXJ20uLm8d1Zw6LiUf1M/Kb6AgQIECAAAECBAjki4AGYL7spHUQIECAAAECicCS9TviogenxJzVW5PcgC5tau/yO6xX+yQnQIAAAQIECBAgQCCfBDQA82k3rYUAAQIECBB4W+DpaSvjmqdmxo7yqrdjf31w9tjeceOnR0SbFn4V+quJPwkQIECAAAECBPJXwG+9+bu3VkaAAAECBApSoGbk95vPzI5H/rg8WX/LkubxrU+NiPEf6GPkN9ERIECAAAECBAgQyFcBDcB83VnrIkCAAAECBSiwcN22zMjv1Hhj7bZk9QO7tY37PjsuBnVvl+QECBAgQIAAAQIECOSzgAZgPu+utREgQIAAgQISePLPK+LrP54VOzOfAKx7jD+yT1x/1vBoXepXn7o2nhMgQIAAAQIECOS/gN+C83+PrZAAAQIECOS1QFl5ZXzj6dnxRKYBWPdoXVpU+11/54zrUzflOQECBAgQIECAAIGCEdAALJittlACBAgQIJB/Am+syYz8PjQlFq7bnixuSI92tXf5PSIz+usgQIAAAQIECBAgUMgCGoCFvPvWToAAAQIEclSguro6HvvT8rguc7OPXRV7klVMOKpfXHfmsGhZUpTkBAgQIECAAAECBAgUmoAGYKHtuPUSIECAAIEcF9i+uzK+/qOZ8eNpq5KVtMmM/N587qj41OheSU6AAAECBAgQIECAQKEKaAAW6s5bNwECBAgQyEGBOau2xqTMyO/i9TuS6of3al878ntYlzZJToAAAQIECBAgQIBAIQtoABby7ls7AQIECBDIEYGakd8Hf78svvXsnCivTEd+P/eR/nHN6UON/ObIfiqTAAECBAgQIECgcQU0ABvX29UIECBAgACB/RTYtqsirn5qZjw3Y3XyznYtiuPW80bF6SN7JjkBAgQIECBAgAABAgT+IqAB6CeBAAECBAgQyFqBmSu2xKSHp8SbG8qSGkf16RCTJ4yLfp1bJzkBAgQIECBAgAABAgT+JqAB+DcLjwgQIECAAIEsEagZ+f3Bb5fGTT+dF+VV6cjvv3z0sLj6tCFRWtw8SypWBgECBAgQIECAAIHsFdAAzN69URkBAgQIEChIgS1lFXHVk9Pj57PXJutv37I4bh8/Ok4e3iPJCRAgQIAAAQIECBAgsHcBDcC9u4gSIECAAAECTSAwbfnm2rv8rti0M7n62H4d494JY6PPIUZ+ExwBAgQIECBAgAABAu8hoAH4HjhSBAgQIECAQOMI1Iz8/uerS+KWn82Lyj3VyUW/8LEBccUpg6OkyMhvgiNAgAABAgQIECBA4H0ENADfB0iaAAECBAgQaFiBzWXlccXj0+OXc9clFzqkdUnccf7oOGFI9yQnQIAAAQIECBAgQIDAvgloAO6bk1cRIECAAAECDSDw5zc3xsUPTY1VW3YlZ//goYfEPZmR354dWiU5AQIECBAgQIAAAQIE9l1AA3DfrbySAAECBAgQqCeBPZkx3//9m8Vx+wtvRFWdkd9mzSK+ePzhcdmJg6LYyG89iTsNAQIECBAgQIBAIQtoABby7ls7AQIECBBoAoEN23fHlzMjvy+98VZy9c5tSuOuz4yJjw3qmuQECBAgQIAAAQIECBA4MAENwANz8y4CBAgQIEDgAAR+v3hDXPLI1Fi7dXfy7g8P6BR3XzA2urdvmeQECBAgQIAAAQIECBA4cAENwAO3804CBAgQIEBgHwVqxnz/49cL465fzo86E79RM/J7yQkD45JPDIyi5pknDgIECBAgQIAAAQIE6lVAA7BeOZ2MAAECBAgQqCvw1rbdcdmj0+LVhevrpqJruxZxd2bk9+gjuiQ5AQIECBAgQIAAAQIE6kdAA7B+HJ2FAAECBAgQ2IvAbzNNv0szzb+aJmDd45hM06/m+/5qmoAOAgQIECBAgAABAgQaTkADsOFsnZkAAQIECBSsQM3I792/WhD3vrggqqvfyVAz5Xv5SYMyd/o9Ipob+X0njmcECBAgQIAAAQIEGkBAA7ABUJ2SAAECBAgUssDarbvi0syNPl5fvDFh6N6+RdyTudHHhwZ0TnICBAgQIECAAAECBAg0jIAGYMO4OisBAgQIEChIgd/Mf6v2+/427ChP1n/coK5x5/mjo3NbI78JjgABAgQIECBAgACBBhTQAGxAXKcmQIAAAQKFIlBZtaf2Dr//8dKiZOS35s6+V54yOP712AFGfgvlB8I6CRAgQIAAAQIEskpAAzCrtkMxBAgQIEAg9wRWb9kZlzw8Nf64dFNSfK8OLePeiWPjyP6dkpwAAQIECBAgQIAAAQKNI6AB2DjOrkKAAAECBPJS4Nfz1sXlj02LTWUVyfpOHNotbjtvdBzSpjTJCRAgQIAAAQIECBAg0HgCGoCNZ+1KBAgQIEAgbwQqMiO/t//8jfjfv1mcrKmkqFl85dQhceExh0WzZplb/joIECBAgAABAgQIEGhSAQ3AJuV3cQIECBAgkHsCKzaVxcWZkd+pyzYnxfc5pFVMnjguxvTtmOQECBAgQIAAAQIECBBoGgENwKZxd1UCBAgQIJCTAi/MXhNXPjEjtuxMR35PHd4jbj1vVHRoVZKTa1M0AQIECBAgQIAAgXwV0ADM1521LgIECBAgUI8C5ZV74uafzY3vvbY0OWtpUfP42ieHxuc+0t/Ib6IjQIAAAQIECBAgQKDpBTQAm34PVECAAAECBLJaYNmGspj08JSYsWJLUmf/zq1j8oRxMbJPhyQnQIAAAQIECBAgQIBAdghoAGbHPqiCAAECBAhkpcDPZq6OqzIjv9t2Vyb1fXJUz7jlnJHRrqWR3wRHgAABAgQIECBAgEAWCWgAZtFmKIUAAQIECGSLwK6Kqrjpp3Pj//3uzaSk0uLmcd2Zw2LiUf2M/CY6AgQIECBAgAABAgSyT0ADMPv2REUECBAgQKBJBZas3xGTHpoSs1dtTeoY0KVN7V1+h/Vqn+QECBAgQIAAAQIECBDITgENwOzcF1URIECAAIEmEXhm+qq45qmZsX0vI79nj+0dN356RLRp4deHJtkcFyVAgAABAgQIECBwgAJ+gz9AOG8jQIAAAQL5JFAz8nv9T+bEw39YliyrZUnz+NanRsT4D/Qx8pvoCBAgQIAAAQIECBDIfgENwOzfIxUSIECAAIEGFVi4bnvtyO+8NduS6xzRrW38x2fHxaDu7ZKcAAECBAgQIECAAAECuSGgAZgb+6RKAgQIECDQIAJPTVkRX//xrCgrr0rOP/7IPnH9WcOjdalfFxIcAQIECBAgQIAAAQI5JOA3+hzaLKUSIECAAIH6Eigrr4zrnp4dj/95RXLKViVF8e9nj4hzxvVJcgIECBAgQIAAAQIECOSegAZg7u2ZigkQIECAwEEJzF+7LS56cEosyIz+1j2G9GhXe5ffmtFfBwECBAgQIECAAAEC+SGgAZgf+2gVBAgQIEDgfQWqq6vj8T+tiG88Myt2VexJXj/hqL5x3ZnDo2XmE4AOAgQIECBAgAABAgTyR0ADMH/20koIECBAgMC7CuzYXVn7XX8/mroyeU2b0qK46ZyRcdaY3klOgAABAgQIECBAgACB3BfQAMz9PbQCAgQIECDwngJzV2+tHfldvH5H8rphPdvHfZm7/B7WpU2SEyBAgAABAgQIECBAID8ENADzYx+tggABAgQIJAI1I78P/WFZXP+TOVFemY78fu4j/eOa04ca+U3kBAgQIECAAAECBAjkl4AGYH7tp9UQIECAAIFagW27KuKrT82MZ2esTkTatSiOW88bFaeP7JnkBAgQIECAAAECBAgQyD8BDcD821MrIkCAAIECF5i1cktMemhKLN1QlkiM6tMhJk8YF/06t05yAgQIECBAgAABAgQI5KeABmB+7qtVESBAgEABCtSM/P6/370Z//7c3CivSkd+/+Wjh8VXThscLYrd5bcAfzwsmQABAgQIECBAoIAFNAALePMtnQABAgTyR2DLzoq4+skZ8bNZa5JFtW9ZHLePHx0nD++R5AQIECBAgAABAgQIEMh/AQ3A/N9jKyRAgACBPBeYvnxzTHp4SizfuDNZ6Zi+HWPyxLHR5xAjvwmOAAECBAgQIECAAIECEdAALJCNtkwCBAgQyD+BmpHf/3ptadzys7lRUVWdLPALHxsQV5wyOEqKmic5AQIECBAgQIAAAQIECkdAA7Bw9tpKCRAgQCCPBDaXlccVj8+IX85dm6zqkNYlccf5o+OEId2TnAABAgQIECBAgAABAoUnoAFYeHtuxQQIECCQ4wJ/fnNTXJy5y++qLbuSlXzw0EPingljo2eHVklOgAABAgQIECBAgACBwhTQACzMfbdqAgQIEMhBgT17quP/vLI4bvv5G1GVeVz3+OLxh8flJw2KYiO/dWk8J0CAAAECBAgQIFDQAhqABb39Fk+AAAECuSKwcUd5XP7YtHjpjbeSkju3KY07PzMmjhvUNckJECBAgAABAgQIECBAQAPQzwABAgQIEMhygT8s2RiXPDw11mxNR34/PKBT3H3B2OjevmWWr0J5BAgQIECAAAECBAg0lYAGYFPJuy4BAgQIEHgfgZqR3/94aWHc+Yv5UXfit1mziItPGBiXfmJgFDXPPHEQIECAAAECBAgQIEDgXQQ0AN8FRpgAAQIECDSlwFvbdteO/L6yYH1SRpe2LeKeC8bE0Ud0SXICBAgQIECAAAECBAgQqCugAVhXxHMCBAgQINDEAr9dtD4ufWRa1DQB6x7HZJp+d2W+769ruxZ1U54TIECAAAECBAgQIEBgrwIagHtlESRAgAABAo0vUHNn33tfXBD3/GpBMvJbM+V72YmD4osfP8LIb+NvjSsSIECAAAECBAgQyGkBDcCc3j7FEyBAgEC+CKzL3OCj5lN/v1u8IVlS9/Ytam/08eEBnZOcAAECBAgQIECAAAECBN5PQAPw/YTkCRAgQIBAAwu8suCtuOzRabF+e3lypeMGdY07zx8dnTPf++cgQIAAAQIECBAgQIDAgQhoAB6ImvcQIECAAIF6EKis2hPf+eWCuC9zp9/q6neesObOvlecPDi+8LEB0dxdft+J4xkBAgQIECBAgAABAvunmx0VAABAAElEQVQloAG4X1xeTIAAAQIE6kdg9ZadcenD0+IPSzcmJ+zVoWXcO3FsHNm/U5ITIECAAAECBAgQIECAwP4KaADur5jXEyBAgACBgxT49bx1cflj02JTWUVyphOHdovbzhsdh7QpTXICBAgQIECAAAECBAgQOBABDcADUfMeAgQIECBwAAIVmZHf23/+Rvzv3yxO3l2cGfO9+rQhceExh0WzZplb/joIECBAgAABAgQIECBQTwIagPUE6TQECBAgQOC9BFZu3hkXPzQlpizbnLysd8dWMTkz8ju23yFJToAAAQIECBAgQIAAAQIHK6ABeLCC3k+AAAECBN5H4Bdz1sYVj0+PLTvTkd9ThnePb587Ojq0Lnmfs0gTIECAAAECBAgQIEDgwAQ0AA/MzbsIECBAgMD7CpRX7olbn58X//nqkuS1pUXN45rTh8Q/HX2okd9ER4AAAQIECBAgQIAAgfoU0ACsT03nIkCAAAEC/7/A8o1lMSkz8jt9xZbEpF+n1nHfxHExsk+HJCdAgAABAgQIECBAgACB+hbQAKxvUecjQIAAgYIXeH7W6rjyiRmxbVdlYvHJUT3j5nNGRvuWRn4THAECBAgQIECAAAECBBpEQAOwQVidlAABAgQKUWB3ZVXc9Nzc+MHv3kyWX1rcPL5xxrD47If6GflNdAQIECBAgAABAgQIEGhIAQ3AhtR1bgIECBAoGIGl63fEpIenxKyVW5M1D+jSJnOX33ExrFf7JCdAgAABAgQIECBAgACBhhbQAGxoYecnQIAAgbwX+Mn0VfHVp2bG9t3pyO+nx/SKG88eGW1b+E9u3v8gWCABAgQIECBAgACBLBXwr5Es3RhlESBAgED2C+yqqIpvPTsnHvr9sqTYliXN4/pPDY/zP9DXyG+iI0CAAAECBAgQIECAQGMKaAA2prZrESBAgEDeCCx6a3tc9OCUmLdmW7KmI7q1rb3L7+Ae7ZKcAAECBAgQIECAAAECBBpbQAOwscVdjwABAgRyXuBHU1fE1340K8rKq5K1nHdkn/jWWcOjdan/xCY4AgQIECBAgAABAgQINImAf500CbuLEiBAgEAuCuzMNPyue2ZWPPanFUn5rUqK4sZPj4hzMw1ABwECBAgQIECAAAECBLJJQAMwm3ZDLQQIECCQtQIL1m6LL2ZGfhes257UOLh7u7jvs2PjiG5GfhMcAQIECBAgQIAAAQIEmlxAA7DJt0ABBAgQIJDNAtXV1fH4n1fEN56eFbsq9iSlTjiqb1x35vBomfkEoIMAAQIECBAgQIAAAQLZKKABmI27oiYCBAgQyAqBHbsr49ofz4qnpq5M6mlTWhQ3nTMyzhrTO8kJECBAgAABAgQIECBAIJsENACzaTfUQoAAAQJZIzB39daY9NCUWPTWjqSmYT3bx+SJY2NA17ZJToAAAQIECBAgQIAAAQLZJqABmG07oh4CBAgQaFKBmpHfh/+wPK7/yezYXZmO/P7jh/vH1z451Mhvk+6SixMgQIAAAQIECBAgsD8CGoD7o+W1BAgQIJDXAtt2VcQ1P5oVP5m+KllnuxbFccu5o+KTo3omOQECBAgQIECAAAECBAhks4AGYDbvjtoIECBAoNEEZq3cUjvyu3RDWXLNkb071I789u/cJskJECBAgAABAgQIECBAINsFNACzfYfUR4AAAQINKlAz8vvfr78ZNz47N8qr0pHf//HRQ+Pq04ZEi2J3+W3QjXByAgQIECBAgAABAgQaTEADsMFonZgAAQIEsl1gy86K+OpTM+KnM9ckpbZvWRy3jR8dpwzvkeQECBAgQIAAAQIECBAgkEsCGoC5tFtqJUCAAIF6E5i+fHNMenhKLN+4MznnmL4d494JY6Nvp9ZJToAAAQIECBAgQIAAAQK5JqABmGs7pl4CBAgQOCiBmpHf/3ptadzys7lRUVWdnOvzxx4WV54yJEqLmyc5AQIECBAgQIAAAQIECOSigAZgLu6amgkQIEDggAQ2l5XHlU/MiF/MWZu8v2PrkrgjM/L7iaHdk5wAAQIECBAgQIAAAQIEcllAAzCXd0/tBAgQILDPAlOWbYqLH5oaKzenI78f6H9I3JMZ+e3VsdU+n88LCRAgQIAAAQIECBAgkCsCGoC5slPqJECAAIEDEtizpzr+7yuL47afvxGVmcd1jy8ef3hcdtKgKCky8lvXxnMCBAgQIECAAAECBPJDQAMwP/bRKggQIEBgLwIbd5THFY9PjxfnrUuynduUxp2fGRPHDeqa5AQIECBAgAABAgQIECCQTwIagPm0m9ZCgAABAm8L/HHpxtqR3zVbd70d++uDDx3WqXbkt3v7ln8N+ZMAAQIECBAgQIAAAQJ5K6ABmLdba2EECBAoTIGakd/7X14Ud/5iflTVGflt1izi4hMGxiUnHBHFRn4L8wfEqgkQIECAAAECBAgUoIAGYAFuuiUTIEAgXwXWb98dlz06LV5ZsD5ZYpe2LeLuC8bER4/okuQECBAgQIAAAQIECBAgkM8CGoD5vLvWRoAAgQIS+N2iDXHpI1Nj3bbdyao/ekTnuCvzfX/d2hn5TXAECBAgQIAAAQIECBDIewENwLzfYgskQIBAfgvUjPne++KCuOdXC6LOxG80z4z8funEQXHRx4+IoponDgIECBAgQIAAAQIECBSggAZgAW66JRMgQCBfBNZt2xVfemRa/Dbz6b+6R/f2NSO/Y+PDAzrXTXlOgAABAgQIECBAgACBghLQACyo7bZYAgQI5I/Aq5nv+fvSo1Nj/fbyZFEfG9Q17jp/dHTOfO+fgwABAgQIECBAgAABAoUuoAFY6D8B1k+AAIEcE6is2hPf+eWCuO+lhVFd/c7ia8Z8v3zyoPhfHzs8mhv5fSeOZwQIECBAgAABAgQIFKyABmDBbr2FEyBAIPcE1mzZFZdkbvTxhyUbk+J7dmgZ904YGx84tFOSEyBAgAABAgQIECBAgEAhC2gAFvLuWzsBAgRySOClN9bF5Y9Nj4070pHfTwzpFrePHx2HtCnNoRUplQABAgQIECBAgAABAo0joAHYOM6uQoAAAQIHKFCRGfm944X58d2XFyVnKM6M+V592pC48JjDolkzd/lNgAQIECBAgAABAgQIECCQEdAA9GNAgAABAlkrsHLzzrjk4anx5zc3JTX27tgqJk8cG2P7HZLkBAgQIECAAAECBAgQIEDgbwIagH+z8IgAAQIEskjgl3PWxpcfnx5bdlYkVZ08rHvcdt7o6NC6JMkJECBAgAABAgQIECBAgMA7BTQA3+nhGQECBAg0sUB55Z749vPz4oFXlySVlBQ1i2tOHxr/fPShRn4THQECBAgQIECAAAECBAjsXUADcO8uogQIECDQBALLN5bFpMzI7/Tlm5Or9+vUunbkd1SfjklOgAABAgQIECBAgAABAgTeXUAD8N1tZAgQIECgEQWen7U6rnxiRmzbVZlc9ZMje8bN546M9i2N/CY4AgQIECBAgAABAgQIEHgfAQ3A9wGSJkCAAIGGFdhdWRU3PTc3fvC7N5MLlRY3j2vPGBb/8KF+Rn4THQECBAgQIECAAAECBAjsm4AG4L45eRUBAgQINIDA0vU7MiO/U2LWyq3J2Q/r0qZ25Hd4rw5JToAAAQIECBAgQIAAAQIE9l1AA3DfrbySAAECBOpR4NkZq+LqJ2fG9t3pyO9ZY3rFv589Mtq28J+peiR3KgIECBAgQIAAAQIEClTAv6wKdOOnTJkSzz//fLzyyisxa9asWLduXZSUlESvXr3i6KOPjgsvvDCOPfbYAtWxbAIEGlJgV0VV3PDsnHjw98uSy7TIjPx+66zhcf4H+hr5TXQECBAgQIAAAQIECBAgcGACGoAH5pbT7zruuOPiN7/5TbKG8vLyWLBgQe3/fvCDH8Q//uM/xgMPPBClpaXJawUIECBwIAKL3toeFz04Jeat2Za8/fCubeI/PntkDO7RLskJECBAgAABAgQIECBAgMCBC2gAHrhdzr5z5cqVtbXXfNpv/PjxtZ/069evX1RVVcXvfve7uOOOO6LmNf/93/8dlZWV8dBDD+XsWhVOgED2CPx46sq45kczo6y8Kinq3HF94oZPD4/Wpf6zlOAIECBAgAABAgQIECBA4CAFmlVnjoM8h7fnmMAZZ5wRn/vc5+Lcc8+NoqKipPr169fHRz/60Zg/f35trubTgvU9DrxixYro27dv7fmXL18effr0SeoQIEAgPwR2Zhp+33xmdjz6p+XJglqVFGUafyPivCP9HZDgCBAgQIAAAQIECBCoBwH//q4HxDw4hY9a5MEm7u8Snn322fd8S5cuXWo/BXjmmWfWvu6JJ56o9wbgexYgSYBA3ggsWLstLnpoSsxfuz1Z0+Du7Wrv8jsw86eDAAECBAgQIECAAAECBBpOQAOw4Wxz+szHH3/82/UvWrTo7cceECBAYF8FHs984u8bT8+OnZmbftQ9Lvhg37juzOHRqjT9FHLd13pOgAABAgQIECBAgAABAgcnoAF4cH55++6aG4L89WjevPlfH/qTAAEC7yuwY3dlXPv0rHhqyl++b/Tv39Am0/C76ZyRcdaY3n8f9pgAAQIECBAgQIAAAQIEGlBAA7ABcXP51C+//PLb5Q8ZMuTtxx4QIEDgvQTmrdlae5ffRW/tSF42tGf7uG/i2BjQtW2SEyBAgAABAgQIECBAgACBhhPQAGw425w98549e+KWW255u/7zzz//7cf7+qDmS0bf61i9evV7peUIEMgxgZr7ST3yx+W1N/vYXbknqf4fPtwvvv7JYdEyc9MPBwECBAgQIECAAAECBAg0roAGYON658TV7rrrrvjDH/5QW+vZZ58dH/jAB/a77r/e4Xe/3+gNBAjknMD2zMjvNU/NjGemr0pqb9uiOG45d2ScMapXkhMgQIAAAQIECBAgQIAAgcYR0ABsHOecuUrN6O/VV19dW2+3bt3i/vvvz5naFUqAQOMLzFq5JSZl7vK7dENZcvGRvTvU3uW3f+c2SU6AAAECBAgQIECAAAECBBpPQAOw8ayz/kqzZ8+Omk/8VVZWRosWLeKxxx6L7t27H1Ddy5cvf8/31YwAH3XUUe/5GkkCBLJXoGbk94evvxk3PDc3yvcy8vvPRx8aXz19SLQoNvKbvbuoMgIECBAgQIAAAQIECkVAA7BQdvp91rlkyZI4+eSTY9OmTVFUVBQPP/xwHHfcce/zrndP9+nT592TMgQI5LTA1l0VcfWTM+KnM9ck62jfsji+fd7oOHVEjyQnQIAAAQIECBAgQIAAAQJNI6AB2DTuWXXVVatWxYknnhg1fzZr1iz+67/+q/aTgFlVpGIIEMgKgRkrNsdFmZHf5Rt3JvWM7tsxJk8YG307tU5yAgQIECBAgAABAgQIECDQdAIagE1nnxVXXr9+fZx00kmxePHi2nruvffe+NznPpcVtSmCAIHsEagZ+f3ea0vj5p/NjYqq6qSwzx97WFx5ypAoLW6e5AQIECBAgAABAgQIECBAoGkFNACb1r9Jr75ly5Y45ZRTYs6cObV13HLLLXHRRRc1aU0uToBA9glsKauIK5+YHi/MWZsU17F1SdyeGfk9cdiBfV9ockIBAgQIECBAgAABAgQIEKh3AQ3AeifNjROWlZXFJz/5yZgyZUptwV/72tfiK1/5Sm4Ur0oCBBpNYMqyTXHxQ1Nj5eZ05PfI/ofEvZmR314dWzVaPS5EgAABAgQIECBAgAABAvsvoAG4/2Y5/47y8vLa7/h77bXXatdy6aWXxo033pjz67IAAgTqT2DPnup44NXF8e3n34jKzOO6x78df3hcftKgKCky8lvXxnMCBAgQIECAAAECBAhkm4AGYLbtSCPUM2HChHjhhRdqr3TCCSfEhRdeGLNmzXrXK5eWlsagQYPeNS9BgEB+CWzaUR5ffnx6vDhvXbKwTm1K487zR8fxg7slOQECBAgQIECAAAECBAgQyE4BDcDs3JcGreqpp556+/wvvvhijBo16u3ne3vQv3//WLp06d5SYgQI5JnAH5dujEsenhqrt+xKVnbUYZ3ingvGRo8OLZOcAAECBAgQIECAAAECBAhkr4AGYPbujcoIECDQaAI1I7/3v7wo7vzF/KiqM/LbrFnEpI8fEZd+YmAUG/lttD1xIQIECBAgQIAAAQIECNSXgAZgfUnm0Hmqq9Pv88qh8pVKgEA9C6zfvjsue3RavLJgfXLmLm1bxHc+MyaOGdglyQkQIECAAAECBAgQIECAQG4IaADmxj6pkgABAg0i8LtFG+LSR6bGum27k/MffXjn+M4FY6JbOyO/CY4AAQIECBAgQIAAAQIEckhAAzCHNkupBAgQqC+BmjHfyS8ujLt/NT/qTPxG88zI76WfGBSTTjgiimqeOAgQIECAAAECBAgQIEAgpwU0AHN6+xRPgACB/RdYt21XfOmRafHbzKf/6h7d2rWIuzM3+vhI5tN/DgIECBAgQIAAAQIECBDIDwENwPzYR6sgQIDAPgm8mvmevy9lvu+v5nv/6h7HZr7n767M9/3VfO+fgwABAgQIECBAgAABAgTyR0ADMH/20koIECDwrgKVVXsy474LYvKvF0bd+wDVjPl++eRB8b8+dng0N/L7roYSBAgQIECAAAECBAgQyFUBDcBc3Tl1EyBAYB8F1mzZFZdkbvTxhyUbk3f07NAy7pkwNj54aKckJ0CAAAECBAgQIECAAAEC+SGgAZgf+2gVBAgQ2KvAS2+si8sfmx4bd5Qn+ROGdIvbx4+OTm1Kk5wAAQIECBAgQIAAAQIECOSPgAZg/uyllRAgQOBtgYrMyO8dL8yP77686O3YXx8UZ8Z8rzp1cPzPYwYY+f0rij8JECBAgAABAgQIECCQxwIagHm8uZZGgEBhCqzavDMufnhq/PnNTQlA746t4t6JY2Ncv0OSnAABAgQIECBAgAABAgQI5KeABmB+7qtVESBQoAK/nLM2rnhiemwuq0gEThrWPW4/b3R0aF2S5AQIECBAgAABAgQIECBAIH8FNADzd2+tjACBAhIor9wT335+Xjzw6pJk1SVFzeKrpw2N//HRQ6NZs2ZJXoAAAQIECBAgQIAAAQIE8ltAAzC/99fqCBAoAIHlG8tiUmbkd/ryzclq+3ZqFZMnjIvRfTsmOQECBAgQIECAAAECBAgQKAwBDcDC2GerJEAgTwWen7UmrsqM/G7dVZms8PSRPeKWc0dF+5ZGfhMcAQIECBAgQIAAAQIECBSQgAZgAW22pRIgkD8Cuyur4uafzovv/3ZpsqjSouZx7RlD4x8+3N/Ib6IjQIAAAQIECBAgQIAAgcIT0AAsvD23YgIEclzgzQ07YtJDU2Pmyi3JSg7t3DomTxwXI3p3SHICBAgQIECAAAECBAgQIFCYAhqAhbnvVk2AQI4KPDtjVVz95MzYvjsd+f3U6F5x0zkjo20Lf7Xn6PYqmwABAgQIECBAgAABAg0i4F+JDcLqpAQIEKhfgV0VVXHDs3Piwd8vS07corh5fPNTw+OCD/Y18pvoCBAgQIAAAQIECBAgQICABqCfAQIECGS5wOK3tsdFmZHfuau3JpUO6Nom7suM/A7t2T7JCRAgQIAAAQIECBAgQIAAgRoBDUA/BwQIEMhigR9PXRnX/GhmlJVXJVWeM7Z33PDpEdHGyG9iI0CAAAECBAgQIECAAAECfxPQAPybhUcECBDIGoGdmYbfN5+ZHY/+aXlSU6uSovjWWcNj/Af6JjkBAgQIECBAgAABAgQIECBQV0ADsK6I5wQIEGhigQVrt2VGfqfE/LXbk0oGdW9bO/I7sHu7JCdAgAABAgQIECBAgAABAgT2JqABuDcVMQIECDSRwOOZT/x94+nZsTNz04+6x2cyn/irudlHq9KiuinPCRAgQIAAAQIECBAgQIDAuwpoAL4rjQQBAgQaT2DH7sq49ulZ8dSUlclFW2cafjedPTI+nfnOPwcBAgQIECBAgAABAgQIENhfAQ3A/RXzegIECNSzwLw1W+OiB6fEord2JGce0qNd3PfZcXF417ZJToAAAQIECBAgQIAAAQIECOyLgAbgvih5DQECBBpAoLq6Oh794/K4LnOzj92Ve5IrfPZD/eLaM4ZFy8xNPxwECBAgQIAAAQIECBAgQOBABTQAD1TO+wgQIHAQAtszI7/XPDUznpm+KjlL2xbFcfM5I+PM0b2SnAABAgQIECBAgAABAgQIENhfAQ3A/RXzegIECBykwOxVW2LSQ1Njyfp05HdE7/YxecK4OLRLm4O8ircTIECAAAECBAgQIECAAIG/CGgA+kkgQIBAIwnUjPz+8PfL4oZn50T5XkZ+//noQ+Orpw+JFsVGfhtpS1yGAAECBAgQIECAAAECBSGgAVgQ22yRBAg0tcDWXRXx1SdnxnMzVyeltGtZHLedNypOHdEzyQkQIECAAAECBAgQIECAAIGDFdAAPFhB7ydAgMD7CMxYsbl25HfZxrLklaP7dIjJE8dF306tk5wAAQIECBAgQIAAAQIECBCoDwENwPpQdA4CBAjsRaBm5Pd7ry2Nm382NyqqqpNXXHjMYfGVU4dEaXHzJCdAgAABAgQIECBAgAABAgTqS0ADsL4knYcAAQJ/J7ClrCKufGJ6vDBn7d9F//KwQ6uSuH386DhpWPckJ0CAAAECBAgQIECAAAECBOpbQAOwvkWdjwCBgheYumxT7cjvys07E4tx/TrGvZmR394dWyU5AQIECBAgQIAAAQIECBAg0BACGoANoeqcBAgUpMCePdXxn68uiVufnxeVmcd1jy8cNyCuOHlwlBQZ+a1r4zkBAgQIECBAgAABAgQINJyABmDD2TozAQIFJLBpR3l8+fHp8eK8dcmqO7UpjTvOHx0fH9wtyQkQIECAAAECBAgQIECAAIGGFtAAbGhh5ydAIO8F/rR0Y1z88NRYvWVXstajDu0U90wYGz06tExyAgQIECBAgAABAgQIECBAoDEENAAbQ9k1CBDIS4Gakd/7X14Ud/5iflTVGflt1ixi0sePiEs/MTCKjfzm5f5bFAECBAgQIECAAAECBHJFQAMwV3ZKnQQIZJXA+u274/LHpsdv5r+V1NWlbWnc9ZkxcezArklOgAABAgQIECBAgAABAgQINLaABmBji7seAQI5L/D64g1xSWbkd9223claPjKgc9x9wZjo1t7Ib4IjQIAAAQIECBAgQIAAAQJNIqAB2CTsLkqAQC4K1Iz5Tn5xYdz9q/lRZ+I3akZ+a8Z9Lz5hYBQ1zzxxECBAgAABAgQIECBAgACBLBHQAMySjVAGAQLZLbBu26647NFp8drCDUmhXdu1qP3U39GHd0lyAgQIECBAgAABAgQIECBAoKkFNACbegdcnwCBrBd4beH6uPSRaVHzvX91j2MHdqn9vr8ubVvUTXlOgAABAgQIECBAgAABAgSyQkADMCu2QREECGSjQGXVnrjnVwvi3l8vjOrqd1ZYM+X75ZMHx78dd3g0N/L7ThzPCBAgQIAAAQIECBAgQCCrBDQAs2o7FEOAQLYIrNmyKy55ZGr8YcnGpKQemRt83DNhbBx1WKckJ0CAAAECBAgQIECAAAECBLJNQAMw23ZEPQQINLnAS2+si8sfmx4bd5QntRw/uGvcef6Y6NSmNMkJECBAgAABAgQIECBAgACBbBTQAMzGXVETAQJNIlCRGfm98xfz4/6XFiXXr7mz71WnDI7PHzvAyG+iI0CAAAECBAgQIECAAAEC2SygAZjNu6M2AgQaTWDV5p1x8cNT489vbkqu2btjq9qR3yP7H5LkBAgQIECAAAECBAgQIECAQLYLaABm+w6pjwCBBhf41dy18eXHp8fmsorkWicO7R63jx8VHVsb+U1wBAgQIECAAAECBAgQIEAgJwQ0AHNimxRJgEBDCJRX7olvPz8vHnh1SXL6kqJmcfVpQ+NfPnpoNGuWueWvgwABAgQIECBAgAABAgQI5KiABmCObpyyCRA4OIHlG8tqR36nLd+cnKhvp1YxecK4GN23Y5ITIECAAAECBAgQIECAAAECuSagAZhrO6ZeAgQOWuDns9fElZmR3627KpNznTaiR9xy7qjo0KokyQkQIECAAAECBAgQIECAAIFcFNAAzMVdUzMBAgcksLuyKm7+6bz4/m+XJu8vLWoeXz9jaPzjh/sb+U10BAgQIECAAAECBAgQIEAglwU0AHN599ROgMA+C7y5YUdMemhqzFy5JXlP/86t476J42JE7w5JToAAAQIECBAgQIAAAQIECOS6gAZgru+g+gkQeF+B52asjqufnBHbdqcjv2eM6hk3nzMy2rU08vu+kF5AgAABAgQIECBAgAABAjkpoAGYk9umaAIE9kVgV0VV3PjcnPjh68uSl5cWN49vnjk8JhzV18hvoiNAgAABAgQIECBAgAABAvkkoAGYT7tpLQQIvC2w+K3tcVFm5Hfu6q1vx/76YEDXNrUjv0N7tv9ryJ8ECBAgQIAAAQIECBAgQCBvBTQA83ZrLYxA4Qo8PW1lXPPUzNhRXpUgnD22d9z46RHRpoW//hIcAQIECBAgQIAAAQIECBDISwH/As7LbbUoAoUpsDPT8Lv+J7PjkT8uTwBaljSPb501IsYf2cfIb6IjQIAAAQIECBAgQIAAAQL5LKABmM+7a20ECkhg4bptcdGDU+ONtduSVQ/s1jbu++y4GNS9XZITIECAAAECBAgQIECAAAEC+S6gAZjvO2x9BApA4Ik/r4hrfzwrdmZu+lH3qPnE3/VnDY/Wpf66q2vjOQECBAgQIECAAAECBAgUhoB/ERfGPlslgbwUKCuvjK9nGn9PTVmZrK91aVHtd/2dM65PkhMgQIAAAQIECBAgQIAAAQKFJKABWEi7ba0E8khg3pqtMSlzl9+F67YnqxrSo11MnjgujsiM/joIECBAgAABAgQIECBAgEChC2gAFvpPgPUTyDGB6urqeDRzk4/rnpkduyv3JNVP/FC/+MYZw6JlSVGSEyBAgAABAgQIECBAgAABAoUooAFYiLtuzQRyVGD77sr42o9mxtPTViUraNuiOG46Z2R8anSvJCdAgAABAgQIECBAgAABAgQKWUADsJB339oJ5JDA7FVbakd+l6zfkVQ9vFf72pHfw7q0SXICBAgQIECAAAECBAgQIECg0AU0AAv9J8D6CWS5QM3I7w9/vyxueHZOlO9l5PdzH+kf15w+1Mhvlu+j8ggQIECAAAECBAgQIECg6QQ0AJvO3pUJEHgfga27KuKrT86M52auTl7ZrmVxfPvcUXHayJ5JToAAAQIECBAgQIAAAQIECBD4m4AG4N8sPCJAIIsEZqzYXDvyu2xjWVLV6D4d4t4J46Jf59ZJToAAAQIECBAgQIAAAQIECBB4p4AG4Ds9PCNAoIkFakZ+v//bpXHTT+dGRVV1Us2/fPSwuPq0IVFa3DzJCRAgQIAAAQIECBAgQIAAAQKpgAZgaiJCgEATCWwpq4irnpweP5+9NqmgfWbk9/bxo+Pk4T2SnAABAgQIECBAgAABAgQIECDw7gIagO9uI0OAQCMKTF22qXbkd+XmnclVx/brmBn5HRt9DjHym+AIECBAgAABAgQIECBAgACB9xHQAHwfIGkCBBpWoGbk94FXlsStz8+Lyj3pyO8XjhsQV5w8OEqKjPw27E44OwECBAgQIECAAAECBAjkq4AGYL7urHURyAGBTTvK44rHp8ev5q1Lqj2kdUncef6Y+PiQbklOgAABAgQIECBAgAABAgQIENh3AQ3AfbfySgIE6lHgT0s3xsUPT43VW3YlZ/3goYfEPZmR354dWiU5AQIECBAgQIAAAQIECBAgQGD/BDQA98/LqwkQOEiBPZkx3+/+ZlHc8cL8qKoz8tusWcQXjz88LjtxUBQb+T1IaW8nQIAAAQIECBAgQIAAAQJ/EdAA9JNAgECjCWzYvjsuf2x6vDz/reSanduUxl2fGRMfG9Q1yQkQIECAAAECBAgQIECAAAECBy6gAXjgdt5JgMB+CLy+eENc+sjUWLt1d/KuDw/oFPdcMDa6tW+Z5AQIECBAgAABAgQIECBAgACBgxPQADw4P+8mQOB9BGrGfO/79cL4zi/nR52J36gZ+b3khIFxyScGRlHzzBMHAQIECBAgQIAAAQIECBAgUO8CGoD1TuqEBAj8VWDdtl1x2aPT4rWFG/4aevvPru1axN2Zkd+jj+jydswDAgQIECBAgAABAgQIECBAoP4FNADr39QZCRDICLy2cH1m5HdarM9871/d45hM06/m+/5qmoAOAgQIECBAgAABAgQIECBAoGEFNAAb1tfZCRScQM3I792/WhD3vrggqqvfufyaKd/LTxqUudPvEdHcyO87cTwjQIAAAQIECBAgQIAAAQINJKAB2ECwTkugEAXWbt0Vlzw8NX6/ZGOy/O7tW9Te6ONDAzonOQECBAgQIECAAAECBAgQIECg4QQ0ABvO1pkJFJTAy/Pfissz3/e3YUd5su7jB3eNO8aPjs5tjfwmOAIECBAgQIAAAQIECBAgQKCBBTQAGxjY6Qnku0Bl1Z644xfz4/6XFiVLrbmz75WnDI5/PXaAkd9ER4AAAQIECBAgQIAAAQIECDSOgAZg4zi7CoG8FFi1eWftyO+f3tyUrK9Xh5Zx78SxcWT/TklOgAABAgQIECBAgAABAgQIEGg8AQ3AxrN2JQJ5JfDivLVx+WPTY3NZRbKuE4d2i9szI78dW5cmOQECBAgQIECAAAECBAgQIECgcQU0ABvX29UI5LxARWbk97afvxH/5zeLk7WUFDWLr5w6JC485rBo1ixzy18HAQIECBAgQIAAAQIECBAg0OQCGoBNvgUKIJA7Ass3lsXFmbv8Tlu+OSm6zyGtYvLEcTGmb8ckJ0CAAAECBAgQIECAAAECBAg0nYAGYNPZuzKBnBL4+ew1ceXj02Prrsqk7lOH94hbzxsVHVqVJDkBAgQIECBAgAABAgQIECBAoGkFNACb1t/VCWS9wO7KqrjlZ/Pie68tTWotLWoeX/vk0PjcR/ob+U10BAgQIECAAAECBAgQIECAQHYIaABmxz6ogkBWCizbUBYXPTQlZq7cktTXv3PruC8z8juid4ckJ0CAAAECBAgQIECAAAECBAhkj4AGYPbshUoIZJXAT2eujq88MSO27U5Hfs8Y1TNuPmdktGtp5DerNk0xBAgQIECAAAECBAgQIEBgLwIagHtBESJQyAK7Kqri35+bG//9+psJQ2lx87juzGEx8ah+Rn4THQECBAgQIECAAAECBAgQIJCdAhqA2bkvqiLQJAJL1u+Iix6cEnNWb02uP6BLm9q7/A7r1T7JCRAgQIAAAQIECBAgQIAAAQLZK6ABmL17ozICjSrw9LSVcc1TM2NHeVVy3bPH9o4bPz0i2rTwV0aCI0CAAAECBAgQIECAAAECBLJcwL/ms3yDlEegoQVqRn6v/8nsePgPy5NLtSxpHt/61IgY/4E+Rn4THQECBAgQIECAAAECBAgQIJAbAhqAubFPqiTQIAIL122vHfl9Y+225PwDu7WN+z47LgZ1b5fkBAgQIECAAAECBAgQIECAAIHcEdAAzJ29UimBehV48s8r4us/nhU7M58ArHuMP7JPXH/W8Ghd6q+IujaeEyBAgAABAgQIECBAgACBXBPwr/tc2zH1EjhIgbLyyvjG07PjiUwDsO7RurSo9rv+zhnXp27KcwIECBAgQIAAAQIECBAgQCBHBTQAc3TjlE3gQATmZ0Z9a+7yuyAz+lv3GNKjXe1dfo/IjP46CBAgQIAAAQIECBAgQIAAgfwR0ADMn720EgLvKlBdXR2P/Wl5XPfM7NhVsSd53YSj+sV1Zw6LliVFSU6AAAECBAgQIECAAAECBAgQyG0BDcDc3j/VE3hfge27K+PrP5oZP562Knltm8zI783njopPje6V5AQIECBAgAABAgQIECBAgACB/BDQAMyPfbQKAnsVmLNqa0x6aEosXr8jyQ/r2b72Lr+HdWmT5AQIECBAgAABAgQIECBAgACB/BHQAMyfvbQSAm8L1Iz8Pvj7ZfGtZ+dEeWU68vu5j/SPa04fauT3bTEPCBAgQIAAAQIECBAgQIBA/gpoAObv3lpZgQps21URVz81M56bsToRaNeiOG49b1ScPrJnkhMgQIAAAQIECBAgQIAAAQIE8lNAAzA/99WqClRg5ootMenhKfHmhrJEYFSfDjF5wrjo17l1khMgQIAAgf+vvXsBt6qqFwX+B3kLCii+AkVCkuv1wQExBfORWX5omSbq0TQ1MytD1KzsZvqVr3wfT+U1Sa99qZX6cTL0HvONr6MiCir4zAuo5QuR9/vuMU9rtdlrry2y9pa51/yN78M15xxzjTXGb+zlXvu/xoMAAQIECBAgQIAAgfoVEACs377VsgIJpCm//+eR1+L8O2bGspWVU36PH7Vt/OCA7aNLp44FUtFUAgQIECBAgAABAgQIECBAIAkIAPo5INDOBeYtXh7fv2Va/N/n/lbRko26dYpLDts59t9hi4o8FwgQIECAAAECBAgQIECAAIFiCAgAFqOftbJOBZ6e/X62y++cuYsrWjhs695x1ZHDon8fU34rcFwgQIAAAQIECBAgQIAAAQIFEhAALFBna2r9CKQpvxMe+mtceOfMWLFqdUXDTvrMoDjj85+KzhuY8luB4wIBAgQIECBAgAABAgQIECiYgABgwTpcc9u/wPuLlsUZf3wm7p7xVkVj+vToHJeO3Tn23X7zijwXCBAgQIAAAQIECBAgQIAAgWIKCAAWs9+1up0KTPl/78UpN06NN+YtqWjBrgP7xL81TPndcuPuFXkuECBAgAABAgQIECBAgAABAsUVEAAsbt9reTsSWNUwzfeaya/Gxf/5QqxsMuW3Q4eIb+39yRi/35DoZMpvO+pVVSVAgAABAgQIECBAgAABAh+PgADgx+PsVQiss8C7C5bG6Q1Tfu9/4e2KMjbZsEtcfvgu8Zkh/SryXCBAgAABAgQIECBAgAABAgQIJAEBQD8HBHIs8F+vvhvfvXlq/P2DpRW1/PSgvnHlEcNi8426VeS5QIAAAQIECBAgQIAAAQIECBAoCQgAliQ8EsiRQJry+8v7X47L/vJiNJnxG2nK73f33S6++9ntYoOODScSAQIECBAgQIAAAQIECBAgQKAFAQHAFnBkEVgfAm/PXxqn/eHpmPzSOxUv369X17iyYcrvHoM3rchzgQABAgQIECBAgAABAgQIECDQnIAAYHMqrhFYTwKPvPxOjPv905GCgE3T6IagX1rvLwUBJQIECBAgQIAAAQIECBAgQIDA2goIAK6tlPsItKFA2tn3ynteiqvufSlWr17zhdIs39M+NyRO3nuwKb9r0jgjQIAAAQIECBAgQIAAAQIE1kJAAHAtkNxCoC0F/v7BkhjXsNHHY6++V/Eym2/UNf6tYaOP3QZtUpHnAgECBAgQIECAAAECBAgQIEBgbQQEANdGyT0E2kjgwRffjvENU37fXbis4hX2GtIvLhu7c2zS05TfChwXCBAgQIAAAQIECBAgQIAAgbUWEABcayo3Emg9gRUrV8Xld7/YsNPvKxVTftPOvt/7/KfiG3sOio52+W09dCURIECAAAECBAgQIECAAIGCCggAFrTjNXv9Cbw5b3F896ap8cRrcysqsdXG3eKqfx0Ww7fpW5HnAgECBAgQIECAAAECBAgQIEBgXQQEANdFzXMIrKPAfTPfitP+8HTMXbS8ooT9hm4WF39l5+izYZeKPBcIECBAgAABAgQIECBAgAABAusqIAC4rnKeR+AjCCxvmPJ7yX++EP/7wVcrntWpYZrvDw7YPk4YvW106NCw5a9EgAABAgQIECBAgAABAgQIEGhFAQHAVsRUFIHmBObMXRSnNEz5nTrr/Yrs/n26x7//67/ELgN6V+S5QIAAAQIECBAgQIAAAQIECBBoDQEBwNZQVAaBKgJ3Pfe3+N4t02Le4sopv1/YYYu46Cs7xcbdO1d5tssECBAgQIAAAQIECBAgQIAAgdoFBABrN1QCgQqBZStWxYV3zozfPPzXirwuG3SMH40ZGsfsvo0pvxU6LhAgQIAAAQIECBAgQIAAAQKtLdCxtQtUXvsTmDVrVpxxxhkxdOjQ2HDDDaNv374xcuTIuOSSS2LRokXtr0Hrucaz31sUh139SLPBv2026RG3nrxHHLvHQMG/9dxPXp4AAQIECBAgQIAAAQIECBRFwAjAovR0lXZOmjQpjjrqqJg3b175jhT0e+KJJ7J/1157bdxxxx0xaNCgcr6D6gJ3Tn8zzrx1WsxfsqLipjE7bRkXHrJj9Opmym8FjgsECBAgQIAAAQIECBAgQIBAmwkYAdhmtPkv+JlnnomxY8dmwb+ePXvGeeedF4888kjcc889ceKJJ2YNeOGFF2LMmDGxYMGC/DdoPdZwyfKVcfZ/PBsn/+6piuBfl04d47wv/8/49yOHCf6txz7y0gQIECBAgAABAgQIECBAoKgCRgAWtecb2n3qqadmU3w7deoUd911V+y+++5ljX333Te22267OPPMM2PmzJlx2WWXxdlnn13Od/BPgdfeWRjfvvGpeO6ND/558R9HgzbdMNvl939stVFFngsECBAgQIAAAQIECBAgQIAAgY9DwAjAj0M5h6+Rpvjef//9Wc1OOOGENYJ/peqefvrp2bqA6fyKK66I5csrd7It3VvUxz8980YceNVDzQb/Dt5lq/jTKaND8K+oPx3aTYAAAQIECBAgQIAAAQIE8iEgAJiPfvjYazFx4sTyax533HHl48YHHTt2jGOOOSa7NHfu3HLAsPE9RT1OU35/eNv0+O5NU2PB0jXX++vWuWP8/NCd4vLDd4meXQ2yLerPiHYTIECAAAECBAgQIECAAIG8CAgA5qUnPuZ6TJ48OXvFtOvv8OHDq776XnvtVc576KGHysdFPnj5rQVx8C8ejpsen1XBMHiznvGn74yOsbsOsMtvhY4LBAgQIECAAAECBAgQIECAwPoQMDxpfajn4DVnzJiR1WLw4MGR1gCslrbffvtyVuk55QsFPLjtqTnxvyY+G4uWraxo/WHD+8e5X9ohenSp7lnxJBcIECBAgAABAgQIECBAgAABAm0sIFLRxsB5LH7JkiXxzjvvZFXr379/i1Xs06dPpFGCCxcujNmzZ7d4b+PMOXPmND6tOH7zzTcrruX5wqJlK+In//Fc/HFKZbu6d94g2+X3kH9p2TLP7VM3AgQIECBAgAABAgQIECBAoH4FBADrt2+rtmz+/PnlvJ49e5aPqx2UAoALFiyodkvF9QEDBlRca88Xzr9jRrPBv+236JXt8pum/koECBAgQIAAAQIECBAgQIAAgTwKWAMwj73SxnVKIwBLqUuXLqXDqo9du3bN8hYvXlz1nnrPGPfZIdGv1387lNp65MgBMfHbo0LwryTikQABAgQIECBAgAABAgQIEMijgBGAeeyVNq5Tt27dyq+wbNmy8nG1g6VLl2ZZ3bt3r3ZLxfUPmy6cpgCPHDmy4nl5vZCCf1c27Op71IT/ih4NU37PP2TH+NIun8hrddWLAAECBAgQIECAAAECBAgQIFAWEAAsUxTnoFevXuXGrs203rT+X0prM124VPCHrS1Yuq89Pe4xeNO44Ms7xm6DNoltN92wPVVdXQkQIECAAAECBAgQIECAAIECCwgAFrDz0wjATTfdNNsI5MM265g7d262AUhiqrd1/dal648YufW6PM1zCBAgQIAAAQIECBAgQIAAAQLrTcAagOuNfv2+8NChQ7MKvPzyy7FixYqqlZk5c2Y5r/Sc8gUHBAgQIECAAAECBAgQIECAAAECuRcQAMx9F7VNBUePHp0VnKb3TpkypeqLPPDAA+W8UaNGlY8dECBAgAABAgQIECBAgAABAgQItA8BAcD20U+tXsuDDz64XOZ1111XPm58sGrVqrjhhhuyS71794599tmncbZjAgQIECBAgAABAgQIECBAgACBdiAgANgOOqktqph24N1zzz2zoidMmBCPPvpoxctceumlMWPGjOz6uHHjonPnzhX3uECAAAECBAgQIECAAAECBAgQIJBvAZuA5Lt/2rR2V155ZaRpvYsXL479998/zjrrrGyUXzq/+eab45prrslef8iQIXH66ae3aV0UToAAAQIECBAgQIAAAQIECBAg0DYCAoBt49ouSh02bFj8/ve/j6OPPjo++OCDLADYtOIp+Ddp0qTo1atX0yznBAgQIECAAAECBAgQIECAAAEC7UDAFOB20EltWcWDDjoopk2bFuPHj48U7OvRo0ek9f5GjBgRF110UUydOjUGDx7cllVQNgECBAgQIECAAAECBAgQIECAQBsKdFjdkNqwfEUTaFZgzpw5MWDAgCxv9uzZ0b9//2bvc5EAAQIECBAgQIAAAQIECBBYdwF/f6+7XT090wjAeupNbSFAgAABAgQIECBAgAABAgQIECDQREAAsAmIUwIECBAgQIAAAQIECBAgQIAAAQL1JCAAWE+9qS0ECBAgQIAAAQIECBAgQIAAAQIEmggIADYBcUqAAAECBAgQIECAAAECBAgQIECgngQEAOupN7WFAAECBAgQIECAAAECBAgQIECAQBMBAcAmIE4JECBAgAABAgQIECBAgAABAgQI1JOAAGA99aa2ECBAgAABAgQIECBAgAABAgQIEGgiIADYBMQpAQIECBAgQIAAAQIECBAgQIAAgXoSEACsp97UFgIECBAgQIAAAQIECBAgQIAAAQJNBAQAm4A4JUCAAAECBAgQIECAAAECBAgQIFBPAgKA9dSb2kKAAAECBAgQIECAAAECBAgQIECgiYAAYBMQpwQIECBAgAABAgQIECBAgAABAgTqSUAAsJ56U1sIECBAgAABAgQIECBAgAABAgQINBEQAGwC4pQAAQIECBAgQIAAAQIECBAgQIBAPQkIANZTb2oLAQIECBAgQIAAAQIECBAgQIAAgSYCAoBNQJwSIECAAAECBAgQIECAAAECBAgQqCcBAcB66k1tIUCAAAECBAgQIECAAAECBAgQINBEQACwCYhTAgQIECBAgAABAgQIECBAgAABAvUkIABYT72pLQQIECBAgAABAgQIECBAgAABAgSaCHRqcu6UwMcisGLFivLrvPnmm+VjBwQIECBAgAABAgQIECBAgEDrCTT+m7vx3+Kt9wpKag8CAoDtoZfqsI5vv/12uVUjR44sHzsgQIAAAQIECBAgQIAAAQIE2kYg/S0+cODAtilcqbkWMAU4192jcgQIECBAgAABAgQIECBAgAABAgRqE+iwuiHVVoRnE/joAkuWLInp06dnT+zXr1906pT/wahp2HRptOLjjz8eW2655UdvuGcQqFMB74867VjNajUB75FWo1RQHQp4f9Rhp2pSqwp4j7QqZyELS9N+S7Pwdtxxx+jWrVshHYre6PxHXYreQ3Xa/vQ/nF133bXdti4F//r3799u66/iBNpSwPujLXWVXQ8C3iP10Iva0FYC3h9tJavcehHwHqmXnvz422Ha78dvnrdXNAU4bz2iPgQIECBAgAABAgQIECBAgAABAgRaUUAAsBUxFUWAAAECBAgQIECAAAECBAgQIEAgbwICgHnrEfUhQIAAAQIECBAgQIAAAQIECBAg0IoCAoCtiKkoAgQIECBAgAABAgQIECBAgAABAnkTEADMW4+oDwECBAgQIECAAAECBAgQIECAAIFWFBAAbEVMRREgQIAAAQIECBAgQIAAAQIECBDIm4AAYN56RH0IECBAgAABAgQIECBAgAABAgQItKJAh9UNqRXLUxQBAgQIECBAgAABAgQIECBAgAABAjkSMAIwR52hKgQIECBAgAABAgQIECBAgAABAgRaW0AAsLVFlUeAAAECBAgQIECAAAECBAgQIEAgRwICgDnqDFUhQIAAAQIECBAgQIAAAQIECBAg0NoCAoCtLao8AgQIECBAgAABAgQIECBAgAABAjkSEADMUWeoCgECBAgQIECAAAECBAgQIECAAIHWFhAAbG1R5REgQIAAAQIECBAgQIAAAQIECBDIkYAAYI46Q1UIECBAgAABAgQIECBAgAABAgQItLaAAGBriyqPAAECBAgQIECAAAECBAgQIECAQI4EBABz1BmqQoAAAQIECBAgQIAAAQIECBAgQKC1BQQAW1tUeQQIECBAgAABAgQIECBAgAABAgRyJCAAmKPOUJX8CsyaNSvOOOOMGDp0aGy44YbRt2/fGDlyZFxyySWxaNGi/FZczQi0ocBTTz0V559/fhxwwAExYMCA6Nq1a/Ts2TOGDBkSX/va12Ly5Mlt+OqKJtA+Bc4888zo0KFD+d/999/fPhui1gRaSeCdd96Jn//85zFq1KjYYostst8lW221Vey2227xve99Lx599NFWeiXFEGh/AsuWLYsJEybEF77whdhyyy3Ln7U+9alPxfHHHx+PPfZY+2uUGhMgsN4EOqxuSOvt1b0wgXYgMGnSpDjqqKNi3rx5zdY2/QK+4447YtCgQc3mu0igHgX22muvePDBBz+0aV/96lfj2muvjS5dunzovW4gUO8CzzzzTIwYMSJWrFhRbup9990Xe++9d/ncAYEiCfzxj3+Mk08+Od59992qzf7Sl74UEydOrJovg0C9CsyePTvGjBkT06dPb7GJ48ePj0svvTT7YqnFG2USIFB4gU6FFwBAoAWB9Mfa2LFjs1F+aWTTD3/4w9hnn31i8eLFcfPNN8evf/3reOGFF7Jfzk888UQ2+qmF4mQRqBuB119/PWtLGqVx2GGHxZ577hlbb711rFy5MhutkT6Ipnt++9vfZsGOG2+8sW7ariEE1kVg1apVceKJJ2bvh8022yzeeuutdSnGcwjUjcANN9wQxx13XKT3RnpPpEDg6NGjs1kWf/vb3+KVV16J22+/PTp37lw3bdYQAmsrkL4oahz822mnneK0006LNPBg/vz58dBDD2VBv4ULF8bll1+ejQ5MI2YlAgQItCRgBGBLOvIKL5CCfWl6VqdOnbLRTrvvvvsaJhdffHGk6VwpnXvuuXH22Wevke+EQL0KHHjggXHMMcfEoYceGhtssEFFM9OUrjSd68UXX8zy0mjBFCSUCBRV4Iorrog0SmP77bePL3/5y3HBBRdkFEYAFvUnotjtnjFjRgwbNiyWLl2a/W5Igb6NN964WZQ0BdIo8mZpXKxjgVtvvTW+8pWvZC1Mf3+kZVWaft6aMmVKpLzly5dHnz59si+W0t8sEgECBKoJWAOwmozrhRdII/pS8C+lE044IfsFm500+s/pp5+erQuYLqU/7tIvYIlAEQT+/Oc/Z6Njm34YLbV90003zb6ZLp3fcsstpUOPBAonkKZx/fjHP87a/atf/Uowo3A/ARrcVOCUU07Jgn/pd8Vtt91WNfiXnif411TPeREEHn744XIz0wyk5j5vDR8+PNIXsinNnTs3Zs6cWX6OAwIECDQnIADYnIprBBoEGq83k6aoNJc6duyYjYJKeekXbylg2Ny9rhEomkDjdc3SVC6JQFEFvvWtb8WCBQvi2GOPtd5fUX8ItLsskIIU99xzT3b+ne98J1IQUCJAYE2BNPK1lFpaZ/yTn/xk6bYsqF4+cUCAAIFmBAQAm0FxiUASKO1gmnb9Td+wVUtpM4RSSutxSAQI/LdA4w+vKVguESiiwB/+8IdII2bT7vFp2QiJQNEF0sYfpZTWkC2l9EXqSy+91OKGIKV7PRKod4EhQ4aUm/jqq6+Wj5selL5gTbvLb7fddk2znRMgQGANAX+RrcHhhMA/BdL6NCkNHjw4WwPwnzlrHqX1nEqp9JzSuUcCRRZ44IEHys1vEiqu3wAAD2lJREFU/D4pX3RAoM4F3n///Rg3blzWyosuuij69etX5y3WPAIfLvDYY49lN6U1/4YOHRq/+93vYuedd86C5CnokUYEphFPaW3lNHJWIlBEgSOPPDI22mijrOnp90faZK1pmjp1akyaNCm7fMQRR5Tvb3qfcwIECJQEBABLEh4JNBJYsmRJpE0MUurfv3+jnMrDtOhuGiWYUlrnSSJAILJdHS+88MIyRdpNWyJQNIG0SVTazXSPPfbI1pItWvu1l0BzAs8//3x2eeDAgZHWAjz66KNj2rRpa9z617/+Nc4555xs/eU33nhjjTwnBIogkL4wuv7666N79+6R1gPcddddI+2cnQLod999dxYgT7OQ0myLXXbZJS677LIisGgjAQI1CggA1gjo6fUpMH/+/HLDevbsWT6udlAKAPqmupqQ60UTuPzyy+Pxxx/Pmp12PB0xYkTRCLS34AJpSYhrr702G0F+9dVXR5qeJREgEPHee+9lDGktwF/84hfRu3fvSO+Rt956K9IXsGkTtgMOOCC759lnn400TXjVqlXoCBROIH1+evLJJ7MvkJ5++ulsHdm06+/nPve5LEDeo0ePLPCXft9sscUWhfPRYAIEPrqAAOBHN/OMAgikD6CltDa7z3Xt2jW7ffHixaWneSRQWIE09fcHP/hB1v7NNtss0q6nEoEiCaQRGd/4xjdi9erVMX78+Nhxxx2L1HxtJdCiwMKFC7P8pUuXZjub3nnnnXHSSSdlU+TT56n0hVFaN7MUBHzkkUeynYJbLFQmgToUWL58edx4441x++23Z79Pmjbx73//e9x00002IWwK45wAgaoCAoBVaWQUWaBbt27l5jfeyKB8sclB+hCbUhqmLxEossBzzz0X6RvrFStWRPpDLm2AsPnmmxeZRNsLKHD++edHWhN26623jp/85CcFFNBkAtUFGn/GSqP7Pv3pT1fcnDaOarxpTgpySASKJJAC5fvtt1+cd9552cY4aUmJ9Hsl/c0xb968uOuuu2L06NHZiNmDDjoorrzyyiLxaCsBAusoIAC4jnCeVt8CvXr1Kjdwbab1lr7NXpvpwuWCHRCoM4G0ZtP+++8faSfHDTbYIPtWuvEu2XXWXM0h0KxAmtZ4wQUXZHlXXXVVeY3YZm92kUABBRp/xiqN8muOYYcddohPfOITWVaaFiwRKJJA+vLowQcfzJo8YcKESBuBpA3V0syktDlImgZ83333xT777JONDjzttNMq1tIskpe2EiCwdgKd1u42dxEolkD6djrtQpc2ApkzZ06LjU/BjlIAcMCAAS3eK5NAvQqkRdrTN9XpMa119pvf/CYbCViv7dUuAtUE0vqXaeR42sV00aJFcfPNN1fcmtY1K6V777032ygknadRHKU1ZUv5HgnUm0D6rJQ2x0npwzZaS/e+/vrr2fqA9eagPQSqCaTlI6677rosO+2MfeyxxzZ7a6dOneKnP/1pNhIwrZOZnpN+B0kECBCoJiAAWE3G9cILDB06NCZPnhwvv/xyNp0x/ZJtLqXRHqWUniMRKJpACpSnb6JfffXVrOlp1NMxxxxTNAbtJZAJlJaESO+HI4888kNV0h9vpZRG0QoAljQ81qtAGtlXGtG3cuXKFptZyq/2GazFJ8sk0E4F0tp+pc1yhg0b1mIrhg8fXs5v/DdJ+aIDAgQINBIwBbgRhkMCjQXSuhoppdF9U6ZMaZy1xnHa8KCURo0aVTr0SKAQAmkdms9//vPx/PPPZ+298MIL49vf/nYh2q6RBAgQIPDRBT7zmc+Un/TKK6+Uj5s7KH2xVJoK3Nw9rhGoN4HGAe+0pnJLKW0UUkqNn1e65pEAAQKNBQQAG2s4JtBI4OCDDy6flYbhly/84yANt7/hhhuys969e2frcDS9xzmBehVI0xvHjBkTTz31VNbEH/3oR/H973+/XpurXQTWSuD666/P1mNKU7iq/Wu8MUhaw6l038CBA9fqNdxEoD0LfPGLX4zOnTtnTbjtttuqNiV9wfruu+9m+XvuuWfV+2QQqDeBvn37Zuv8pXY9+uij2Uykam1sPBBh2223rXab6wQIEMgEBAD9IBCoIjBy5MgofeBMi++mX8BN06WXXprtyJWujxs3rvyBtul9zgnUm0Ba4yzt9vvwww9nTUs//z/72c/qrZnaQ4AAAQKtLLDJJpvE17/+9azUv/zlL82ukzl//vw49dRTy6980kknlY8dEKh3gbQLdvqCNaW0tnLaCbi5lNYhb/zF64EHHtjcba4RIECgLNCh4Vvn1eUzBwQIrCEwderUSNN6Fy9eHGmH37POOisb5ZfO08Lu11xzTXZ/WqD3ySefjMY7261RkBMCdSZw6KGHRmnkxr777htXXHFFtvlHtWamXevS+0QiQCDinHPOiXPPPTejSCMA9957bywECiXw9ttvx4gRI2LWrFmRpi1+85vfjEMOOSQb9TR9+vRsx9PSemYnn3xy/PKXvyyUj8YSSD//aX2/NNsipbRJVNoMJG0wtWTJknjssceyz17pPZTSZz/72bj77ruzY/8hQIBANQEBwGoyrhP4h8Dtt98eRx99dHzwwQfNmqSgxqRJk2Lw4MHN5rtIoB4F0k6/HyVts8028dprr32Up7iXQN0KCADWbddq2EcQmDFjRqTpwGmztWrp+OOPj6uvvtoMi2pArte1QAropc2k0mZrLaX0Rewtt9wSffr0aek2eQQIEAhTgP0QEPgQgfSN27Rp02L8+PHZCKYePXpEWu8vfXN90UUXRRolKPj3IYiyCRAgQIAAAQKNBIYOHRpPP/10XHzxxbHbbrtFWvcsjRbv379/HH744XHvvfdGWoKltF5go6c6JFAIgf322y/SSMD090YaKd6vX7/s/dC9e/dI6/2NHTs2Jk6cmI38E/wrxI+ERhKoWcAIwJoJFUCAAAECBAgQIECAAAECBAgQIEAgvwJGAOa3b9SMAAECBAgQIECAAAECBAgQIECAQM0CAoA1EyqAAAECBAgQIECAAAECBAgQIECAQH4FBADz2zdqRoAAAQIECBAgQIAAAQIECBAgQKBmAQHAmgkVQIAAAQIECBAgQIAAAQIECBAgQCC/AgKA+e0bNSNAgAABAgQIECBAgAABAgQIECBQs4AAYM2ECiBAgAABAgQIECBAgAABAgQIECCQXwEBwPz2jZoRIECAAAECBAgQIECAAAECBAgQqFlAALBmQgUQIECAAAECBAgQIECAAAECBAgQyK+AAGB++0bNCBAgQIAAAQIECBAgQIAAAQIECNQsIABYM6ECCBAgQIAAAQIECBAgQIAAAQIECORXQAAwv32jZgQIECBAgAABAgQIECBAgAABAgRqFhAArJlQAQQIECBAgAABAgQIECBAgAABAgTyKyAAmN++UTMCBAgQIECAAAECBAgQIECAAAECNQsIANZMqAACBAgQIECAAAECBAgQIECAAAEC+RUQAMxv36gZAQIECBAgQIAAAQIECBAgQIAAgZoFBABrJlQAAQIECBAgQIAAAQIECBAgQIAAgfwKCADmt2/UjAABAgQIECBAgAABAgQIECBAgEDNAgKANRMqgAABAgQIECBAgAABAgQIECBAgEB+BQQA89s3akaAAAECBAgQIECAAAECBAgQIECgZgEBwJoJFUCAAAECBAgQIECAAAECBAgQIEAgvwICgPntGzUjQIAAAQIECBAgQIAAAQIECBAgULOAAGDNhAogQIAAAQIECBAgQIAAAQIECBAgkF8BAcD89o2aESBAgAABAgQIECBAgAABAgQIEKhZQACwZkIFECBAgAABAgQIECBAgAABAgQIEMivgABgfvtGzQgQIECAAAECBAgQIECAAAECBAjULCAAWDOhAggQIECAAAECBAgQIECAAAECBAjkV0AAML99o2YECBAgQIAAAQIECBAgQIAAAQIEahYQAKyZUAEECBAgQIAAAQIECBAgQIAAAQIE8isgAJjfvlEzAgQIECBAgAABAgQIECBAgAABAjULCADWTKgAAgQIECBAgAABAgQIECBAgAABAvkVEADMb9+oGQECBAgQIECAAAECBAgQIECAAIGaBQQAayZUAAECBAgQIECAAAECBAgQIECAAIH8CggA5rdv1IwAAQIECBAgQIAAAQIECBAgQIBAzQICgDUTKoAAAQIECBAgQIAAAQIECBAgQIBAfgUEAPPbN2pGgAABAgQIECBAgAABAgQIECBAoGYBAcCaCRVAgAABAgQIECBAgAABAgQIECBAIL8CAoD57Rs1I0CAAAECBAgQIECAAAECBAgQIFCzgABgzYQKIECAAAECBAgQIECAAAECBAgQIJBfAQHA/PaNmhEgQIAAAQIECBAgQIAAAQIECBCoWUAAsGZCBRAgQIAAAQIECBAgQIAAAQIECBDIr4AAYH77Rs0IECBAgAABAgQIECBAgAABAgQI1CwgAFgzoQIIECBAgAABAgQIECBAgAABAgQI5FdAADC/faNmBAgQIECAAAECBAgQIECAAAECBGoWEACsmVABBAgQIECAAAECBAgQIECAAAECBPIrIACY375RMwIECBAgQIAAAQIECBAgQIAAAQI1CwgA1kyoAAIECBAgQIAAAQIECBAgQIAAAQL5FRAAzG/fqBkBAgQIECBAgAABAgQIECBAgACBmgUEAGsmVAABAgQIECBAgAABAgQIECBAgACB/AoIAOa3b9SMAAECBAgQIECAAAECBAgQIECAQM0CAoA1EyqAAAECBAgQIECAAAECBAgQIECAQH4FBADz2zdqRoAAAQIECBAgQIAAAQIECBAgQKBmAQHAmgkVQIAAAQIECBAgQIAAAQIECBAgQCC/AgKA+e0bNSNAgAABAgQIECBAgAABAgQIECBQs4AAYM2ECiBAgAABAgQIECBAgAABAgQIECCQXwEBwPz2jZoRIECAAAECBAgQIECAAAECBAgQqFlAALBmQgUQIECAAAECBAgQIECAAAECBAgQyK+AAGB++0bNCBAgQIAAAQIECBAgQIAAAQIECNQsIABYM6ECCBAgQIAAAQIECBAgQIAAAQIECORXQAAwv32jZgQIECBAgAABAgQIECBAgAABAgRqFhAArJlQAQQIECBAgAABAgQIECBAgAABAgTyKyAAmN++UTMCBAgQIECAAAECBAgQIECAAAECNQsIANZMqAACBAgQIECAAAECBAgQIECAAAEC+RUQAMxv36gZAQIECBAgQIAAAQIECBAgQIAAgZoF/j9BztccnCA05QAAAABJRU5ErkJggg==\" width=\"640\">"
      ],
      "text/plain": [
       "<IPython.core.display.HTML object>"
      ]
     },
     "metadata": {},
     "output_type": "display_data"
    },
    {
     "data": {
      "text/plain": [
       "[<matplotlib.lines.Line2D at 0x1202ad9e8>]"
      ]
     },
     "execution_count": 5,
     "metadata": {},
     "output_type": "execute_result"
    }
   ],
   "source": [
    "plt.plot(data)"
   ]
  },
  {
   "cell_type": "code",
   "execution_count": null,
   "metadata": {},
   "outputs": [],
   "source": []
  }
 ],
 "metadata": {
  "kernelspec": {
   "display_name": "Python 3",
   "language": "python",
   "name": "python3"
  },
  "language_info": {
   "codemirror_mode": {
    "name": "ipython",
    "version": 3
   },
   "file_extension": ".py",
   "mimetype": "text/x-python",
   "name": "python",
   "nbconvert_exporter": "python",
   "pygments_lexer": "ipython3",
   "version": "3.6.6"
  }
 },
 "nbformat": 4,
 "nbformat_minor": 2
}
